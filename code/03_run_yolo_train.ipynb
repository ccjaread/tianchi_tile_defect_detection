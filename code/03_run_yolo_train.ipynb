{
 "cells": [
  {
   "cell_type": "code",
   "execution_count": 1,
   "metadata": {},
   "outputs": [
    {
     "data": {
      "text/plain": [
       "'D:\\\\Jupyter_Data\\\\tile_tianchi\\\\yolov5'"
      ]
     },
     "execution_count": 1,
     "metadata": {},
     "output_type": "execute_result"
    }
   ],
   "source": [
    "import os\n",
    "\n",
    "os.chdir('../code/yolov5/')\n",
    "\n",
    "os.getcwd()"
   ]
  },
  {
   "cell_type": "markdown",
   "metadata": {},
   "source": [
    "``` python\n",
    "!python train.py --img 160 --batch 4 --epochs 5 --data ./data/train_imgs_sliced_160.yaml --cfg ./models/yolov5s.yaml --weights '' \n",
    "```"
   ]
  },
  {
   "cell_type": "markdown",
   "metadata": {},
   "source": [
    "``` python\n",
    "!python train.py --img 640 --batch 10 --epochs 100 --data ./data/train_imgs_sliced_640_val.yaml --cfg ./models/yolov5_tile.yaml --weights '' \n",
    "``` "
   ]
  },
  {
   "cell_type": "markdown",
   "metadata": {},
   "source": [
    "``` python\n",
    "%run train.py --img 320 --batch 5 --epochs 5 --data ./data/train_imgs_sliced_320.yaml --cfg ./models/yolov5s.yaml --weights '' \n",
    "```"
   ]
  },
  {
   "cell_type": "markdown",
   "metadata": {},
   "source": [
    "%run train.py --img 320 --batch 5 --epochs 60 --data ./data/train_imgs_sliced_320_val.yaml --cfg ./models/yolov5st.yaml --weights ./runs/train/exp40/weights/last.pt"
   ]
  },
  {
   "cell_type": "code",
   "execution_count": 4,
   "metadata": {
    "collapsed": true,
    "jupyter": {
     "outputs_hidden": true
    }
   },
   "outputs": [
    {
     "name": "stderr",
     "output_type": "stream",
     "text": [
      "Using torch 1.6.0+cu101 CUDA:0 (GeForce RTX 2060, 6144MB)\n",
      "\n",
      "Namespace(adam=False, batch_size=5, bucket='', cache_images=False, cfg='', data='./data/train_imgs_sliced_320_val.yaml', device='', epochs=60, evolve=False, exist_ok=False, global_rank=-1, hyp='data/hyp.scratch.yaml', image_weights=False, img_size=[320, 320], local_rank=-1, log_imgs=16, multi_scale=False, name='exp', noautoanchor=False, nosave=False, notest=False, project='runs/train', rect=False, resume=False, save_dir='runs\\\\train\\\\exp41', single_cls=False, sync_bn=False, total_batch_size=5, weights='./runs/train/exp40/weights/last.pt', workers=8, world_size=1)\n",
      "Start Tensorboard with \"tensorboard --logdir runs/train\", view at http://localhost:6006/\n",
      "Hyperparameters {'lr0': 0.01, 'lrf': 0.2, 'momentum': 0.937, 'weight_decay': 0.0005, 'warmup_epochs': 3.0, 'warmup_momentum': 0.8, 'warmup_bias_lr': 0.1, 'box': 0.05, 'cls': 0.5, 'cls_pw': 1.0, 'obj': 1.0, 'obj_pw': 1.0, 'iou_t': 0.2, 'anchor_t': 4.0, 'fl_gamma': 0.0, 'hsv_h': 0.015, 'hsv_s': 0.7, 'hsv_v': 0.4, 'degrees': 0.0, 'translate': 0.1, 'scale': 0.5, 'shear': 0.0, 'perspective': 0.0, 'flipud': 0.0, 'fliplr': 0.5, 'mosaic': 1.0, 'mixup': 0.0}\n",
      "\n",
      "                 from  n    params  module                                  arguments                     \n",
      "  0                -1  1      3520  models.common.Focus                     [3, 32, 3]                    \n",
      "  1                -1  1     18560  models.common.Conv                      [32, 64, 3, 2]                \n",
      "  2                -1  1     19904  models.common.BottleneckCSP             [64, 64, 1]                   \n",
      "  3                -1  1     73984  models.common.Conv                      [64, 128, 3, 2]               \n",
      "  4                -1  1    161152  models.common.BottleneckCSP             [128, 128, 3]                 \n",
      "  5                -1  1    295424  models.common.Conv                      [128, 256, 3, 2]              \n",
      "  6                -1  1    641792  models.common.BottleneckCSP             [256, 256, 3]                 \n",
      "  7                -1  1   1180672  models.common.Conv                      [256, 512, 3, 2]              \n",
      "  8                -1  1    656896  models.common.SPP                       [512, 512, [5, 9, 13]]        \n",
      "  9                -1  1   1248768  models.common.BottleneckCSP             [512, 512, 1, False]          \n",
      " 10                -1  1    131584  models.common.Conv                      [512, 256, 1, 1]              \n",
      " 11                -1  1         0  torch.nn.modules.upsampling.Upsample    [None, 2, 'nearest']          \n",
      " 12           [-1, 6]  1         0  models.common.Concat                    [1]                           \n",
      " 13                -1  1    378624  models.common.BottleneckCSP             [512, 256, 1, False]          \n",
      " 14                -1  1     33024  models.common.Conv                      [256, 128, 1, 1]              \n",
      " 15                -1  1         0  torch.nn.modules.upsampling.Upsample    [None, 2, 'nearest']          \n",
      " 16           [-1, 4]  1         0  models.common.Concat                    [1]                           \n",
      " 17                -1  1     95104  models.common.BottleneckCSP             [256, 128, 1, False]          \n",
      " 18                -1  1    147712  models.common.Conv                      [128, 128, 3, 2]              \n",
      " 19          [-1, 14]  1         0  models.common.Concat                    [1]                           \n",
      " 20                -1  1    313088  models.common.BottleneckCSP             [256, 256, 1, False]          \n",
      " 21                -1  1    590336  models.common.Conv                      [256, 256, 3, 2]              \n",
      " 22          [-1, 10]  1         0  models.common.Concat                    [1]                           \n",
      " 23                -1  1   1248768  models.common.BottleneckCSP             [512, 512, 1, False]          \n",
      " 24      [17, 20, 23]  1     32364  models.yolo.Detect                      [7, [[9, 9, 14, 14, 23, 20], [61, 25, 34, 50, 55, 108], [124, 49, 237, 85, 111, 224]], [128, 256, 512]]\n",
      "Model Summary: 283 layers, 7271276 parameters, 7271276 gradients\n",
      "\n",
      "Transferred 370/370 items from ./runs/train/exp40/weights/last.pt\n",
      "Optimizer groups: 62 .bias, 70 conv.weight, 59 other\n",
      "Scanning '..\\train_imgs_sliced_all_320_val6\\labels.cache' for images and labels... 28267 found, 0 missing, 0 empty, 0 c\n",
      "Scanning '..\\train_imgs_sliced_all_320_val\\labels.cache' for images and labels... 14548 found, 0 missing, 0 empty, 0 co\n",
      "Image sizes 320 train, 320 test\n",
      "Using 5 dataloader workers\n",
      "Logging results to runs\\train\\exp41\n",
      "Starting training for 60 epochs...\n",
      "\n",
      "     Epoch   gpu_mem       box       obj       cls     total   targets  img_size\n",
      "  0%|                                                                                         | 0/5654 [00:00<?, ?it/s]"
     ]
    },
    {
     "name": "stdout",
     "output_type": "stream",
     "text": [
      "\n",
      "Analyzing anchors... anchors/target = 4.01, Best Possible Recall (BPR) = 1.0000\n"
     ]
    },
    {
     "name": "stderr",
     "output_type": "stream",
     "text": [
      "      0/59    0.612G   0.03841   0.01663  0.006397   0.06143         2       320: 100%|█| 5654/5654 [06:16<00:00, 15.02\n",
      "               Class      Images     Targets           P           R      mAP@.5  mAP@.5:.95: 100%|█| 2910/2910 [02:05<\n"
     ]
    },
    {
     "name": "stdout",
     "output_type": "stream",
     "text": [
      "                 all    1.45e+04    1.52e+04       0.445       0.887       0.776       0.335\n"
     ]
    },
    {
     "name": "stderr",
     "output_type": "stream",
     "text": [
      "\n",
      "     Epoch   gpu_mem       box       obj       cls     total   targets  img_size\n",
      "      1/59    0.466G   0.03983   0.01691  0.007206   0.06394         2       320: 100%|█| 5654/5654 [05:44<00:00, 16.40\n",
      "               Class      Images     Targets           P           R      mAP@.5  mAP@.5:.95: 100%|█| 2910/2910 [02:05<\n",
      "\n",
      "     Epoch   gpu_mem       box       obj       cls     total   targets  img_size\n",
      "  0%|                                                                                         | 0/5654 [00:00<?, ?it/s]"
     ]
    },
    {
     "name": "stdout",
     "output_type": "stream",
     "text": [
      "                 all    1.45e+04    1.52e+04       0.433       0.869       0.721       0.301\n"
     ]
    },
    {
     "name": "stderr",
     "output_type": "stream",
     "text": [
      "      2/59    0.466G     0.042   0.01749   0.00845   0.06794         2       320: 100%|█| 5654/5654 [05:36<00:00, 16.78\n",
      "               Class      Images     Targets           P           R      mAP@.5  mAP@.5:.95: 100%|█| 2910/2910 [02:05<\n",
      "\n",
      "     Epoch   gpu_mem       box       obj       cls     total   targets  img_size\n",
      "  0%|                                                                                         | 0/5654 [00:00<?, ?it/s]"
     ]
    },
    {
     "name": "stdout",
     "output_type": "stream",
     "text": [
      "                 all    1.45e+04    1.52e+04       0.333       0.849       0.632       0.245\n"
     ]
    },
    {
     "name": "stderr",
     "output_type": "stream",
     "text": [
      "      3/59    0.466G   0.04408    0.0182  0.009612   0.07189         4       320: 100%|█| 5654/5654 [05:38<00:00, 16.69\n",
      "               Class      Images     Targets           P           R      mAP@.5  mAP@.5:.95: 100%|█| 2910/2910 [02:04<\n",
      "\n",
      "     Epoch   gpu_mem       box       obj       cls     total   targets  img_size\n",
      "  0%|                                                                                         | 0/5654 [00:00<?, ?it/s]"
     ]
    },
    {
     "name": "stdout",
     "output_type": "stream",
     "text": [
      "                 all    1.45e+04    1.52e+04       0.341       0.829       0.646       0.246\n"
     ]
    },
    {
     "name": "stderr",
     "output_type": "stream",
     "text": [
      "      4/59    0.466G   0.04426   0.01821  0.009616   0.07208         3       320: 100%|█| 5654/5654 [05:39<00:00, 16.65\n",
      "               Class      Images     Targets           P           R      mAP@.5  mAP@.5:.95: 100%|█| 2910/2910 [02:04<\n",
      "\n",
      "     Epoch   gpu_mem       box       obj       cls     total   targets  img_size\n",
      "  0%|                                                                                         | 0/5654 [00:00<?, ?it/s]"
     ]
    },
    {
     "name": "stdout",
     "output_type": "stream",
     "text": [
      "                 all    1.45e+04    1.52e+04       0.392       0.841       0.706       0.273\n"
     ]
    },
    {
     "name": "stderr",
     "output_type": "stream",
     "text": [
      "      5/59    0.466G   0.04402   0.01821  0.009775   0.07201         2       320: 100%|█| 5654/5654 [05:38<00:00, 16.69\n",
      "               Class      Images     Targets           P           R      mAP@.5  mAP@.5:.95: 100%|█| 2910/2910 [02:04<\n",
      "\n",
      "     Epoch   gpu_mem       box       obj       cls     total   targets  img_size\n",
      "  0%|                                                                                         | 0/5654 [00:00<?, ?it/s]"
     ]
    },
    {
     "name": "stdout",
     "output_type": "stream",
     "text": [
      "                 all    1.45e+04    1.52e+04       0.364       0.842       0.665       0.248\n"
     ]
    },
    {
     "name": "stderr",
     "output_type": "stream",
     "text": [
      "      6/59    0.466G   0.04394     0.018  0.009387   0.07133         1       320: 100%|█| 5654/5654 [05:39<00:00, 16.65\n",
      "               Class      Images     Targets           P           R      mAP@.5  mAP@.5:.95: 100%|█| 2910/2910 [02:04<\n",
      "\n",
      "     Epoch   gpu_mem       box       obj       cls     total   targets  img_size\n",
      "  0%|                                                                                         | 0/5654 [00:00<?, ?it/s]"
     ]
    },
    {
     "name": "stdout",
     "output_type": "stream",
     "text": [
      "                 all    1.45e+04    1.52e+04       0.383       0.852       0.695       0.275\n"
     ]
    },
    {
     "name": "stderr",
     "output_type": "stream",
     "text": [
      "      7/59    0.466G   0.04352   0.01826  0.009569   0.07135         3       320: 100%|█| 5654/5654 [05:39<00:00, 16.64\n",
      "               Class      Images     Targets           P           R      mAP@.5  mAP@.5:.95: 100%|█| 2910/2910 [02:04<\n",
      "\n",
      "     Epoch   gpu_mem       box       obj       cls     total   targets  img_size\n",
      "  0%|                                                                                         | 0/5654 [00:00<?, ?it/s]"
     ]
    },
    {
     "name": "stdout",
     "output_type": "stream",
     "text": [
      "                 all    1.45e+04    1.52e+04       0.367        0.83       0.669       0.268\n"
     ]
    },
    {
     "name": "stderr",
     "output_type": "stream",
     "text": [
      "      8/59    0.466G   0.04414    0.0183  0.009595   0.07204         2       320: 100%|█| 5654/5654 [05:38<00:00, 16.69\n",
      "               Class      Images     Targets           P           R      mAP@.5  mAP@.5:.95: 100%|█| 2910/2910 [02:04<\n",
      "\n",
      "     Epoch   gpu_mem       box       obj       cls     total   targets  img_size\n",
      "  0%|                                                                                         | 0/5654 [00:00<?, ?it/s]"
     ]
    },
    {
     "name": "stdout",
     "output_type": "stream",
     "text": [
      "                 all    1.45e+04    1.52e+04       0.386       0.848       0.695        0.29\n"
     ]
    },
    {
     "name": "stderr",
     "output_type": "stream",
     "text": [
      "      9/59    0.466G   0.04341   0.01814  0.009579   0.07113         3       320: 100%|█| 5654/5654 [05:36<00:00, 16.80\n",
      "               Class      Images     Targets           P           R      mAP@.5  mAP@.5:.95: 100%|█| 2910/2910 [02:04<\n",
      "\n",
      "     Epoch   gpu_mem       box       obj       cls     total   targets  img_size\n",
      "  0%|                                                                                         | 0/5654 [00:00<?, ?it/s]"
     ]
    },
    {
     "name": "stdout",
     "output_type": "stream",
     "text": [
      "                 all    1.45e+04    1.52e+04       0.404       0.851       0.707       0.297\n"
     ]
    },
    {
     "name": "stderr",
     "output_type": "stream",
     "text": [
      "     10/59    0.466G   0.04314   0.01805   0.00916   0.07034         5       320: 100%|█| 5654/5654 [05:36<00:00, 16.78\n",
      "               Class      Images     Targets           P           R      mAP@.5  mAP@.5:.95: 100%|█| 2910/2910 [02:05<\n",
      "\n",
      "     Epoch   gpu_mem       box       obj       cls     total   targets  img_size\n",
      "  0%|                                                                                         | 0/5654 [00:00<?, ?it/s]"
     ]
    },
    {
     "name": "stdout",
     "output_type": "stream",
     "text": [
      "                 all    1.45e+04    1.52e+04       0.402       0.864        0.73       0.314\n"
     ]
    },
    {
     "name": "stderr",
     "output_type": "stream",
     "text": [
      "     11/59    0.466G    0.0435   0.01812  0.009309   0.07092         1       320: 100%|█| 5654/5654 [05:35<00:00, 16.84\n",
      "               Class      Images     Targets           P           R      mAP@.5  mAP@.5:.95: 100%|█| 2910/2910 [02:04<\n",
      "\n",
      "     Epoch   gpu_mem       box       obj       cls     total   targets  img_size\n",
      "  0%|                                                                                         | 0/5654 [00:00<?, ?it/s]"
     ]
    },
    {
     "name": "stdout",
     "output_type": "stream",
     "text": [
      "                 all    1.45e+04    1.52e+04       0.407       0.863       0.734       0.309\n"
     ]
    },
    {
     "name": "stderr",
     "output_type": "stream",
     "text": [
      "     12/59    0.466G   0.04323   0.01799  0.009338   0.07056         3       320: 100%|█| 5654/5654 [05:36<00:00, 16.80\n",
      "               Class      Images     Targets           P           R      mAP@.5  mAP@.5:.95: 100%|█| 2910/2910 [02:04<\n",
      "\n",
      "     Epoch   gpu_mem       box       obj       cls     total   targets  img_size\n",
      "  0%|                                                                                         | 0/5654 [00:00<?, ?it/s]"
     ]
    },
    {
     "name": "stdout",
     "output_type": "stream",
     "text": [
      "                 all    1.45e+04    1.52e+04       0.421       0.855       0.711       0.302\n"
     ]
    },
    {
     "name": "stderr",
     "output_type": "stream",
     "text": [
      "     13/59    0.466G   0.04288    0.0179  0.009061   0.06984         2       320: 100%|█| 5654/5654 [05:35<00:00, 16.85\n",
      "               Class      Images     Targets           P           R      mAP@.5  mAP@.5:.95: 100%|█| 2910/2910 [02:04<\n",
      "\n",
      "     Epoch   gpu_mem       box       obj       cls     total   targets  img_size\n",
      "  0%|                                                                                         | 0/5654 [00:00<?, ?it/s]"
     ]
    },
    {
     "name": "stdout",
     "output_type": "stream",
     "text": [
      "                 all    1.45e+04    1.52e+04       0.408       0.867       0.738       0.315\n"
     ]
    },
    {
     "name": "stderr",
     "output_type": "stream",
     "text": [
      "     14/59    0.466G   0.04323   0.01782  0.008994   0.07005         3       320: 100%|█| 5654/5654 [05:36<00:00, 16.78\n",
      "               Class      Images     Targets           P           R      mAP@.5  mAP@.5:.95: 100%|█| 2910/2910 [02:04<\n",
      "\n",
      "     Epoch   gpu_mem       box       obj       cls     total   targets  img_size\n",
      "  0%|                                                                                         | 0/5654 [00:00<?, ?it/s]"
     ]
    },
    {
     "name": "stdout",
     "output_type": "stream",
     "text": [
      "                 all    1.45e+04    1.52e+04       0.433       0.861       0.737       0.311\n"
     ]
    },
    {
     "name": "stderr",
     "output_type": "stream",
     "text": [
      "     15/59    0.466G   0.04275   0.01786  0.008919   0.06953         2       320: 100%|█| 5654/5654 [05:36<00:00, 16.80\n",
      "               Class      Images     Targets           P           R      mAP@.5  mAP@.5:.95: 100%|█| 2910/2910 [02:05<\n",
      "\n",
      "     Epoch   gpu_mem       box       obj       cls     total   targets  img_size\n",
      "  0%|                                                                                         | 0/5654 [00:00<?, ?it/s]"
     ]
    },
    {
     "name": "stdout",
     "output_type": "stream",
     "text": [
      "                 all    1.45e+04    1.52e+04       0.431       0.864       0.738       0.323\n"
     ]
    },
    {
     "name": "stderr",
     "output_type": "stream",
     "text": [
      "     16/59    0.466G   0.04289   0.01773  0.008974    0.0696         6       320: 100%|█| 5654/5654 [05:37<00:00, 16.75\n",
      "               Class      Images     Targets           P           R      mAP@.5  mAP@.5:.95: 100%|█| 2910/2910 [02:04<\n",
      "\n",
      "     Epoch   gpu_mem       box       obj       cls     total   targets  img_size\n",
      "  0%|                                                                                         | 0/5654 [00:00<?, ?it/s]"
     ]
    },
    {
     "name": "stdout",
     "output_type": "stream",
     "text": [
      "                 all    1.45e+04    1.52e+04       0.426       0.866       0.738       0.325\n"
     ]
    },
    {
     "name": "stderr",
     "output_type": "stream",
     "text": [
      "     17/59    0.466G    0.0428   0.01797  0.008992   0.06976         2       320: 100%|█| 5654/5654 [05:36<00:00, 16.80\n",
      "               Class      Images     Targets           P           R      mAP@.5  mAP@.5:.95: 100%|█| 2910/2910 [02:05<\n",
      "\n",
      "     Epoch   gpu_mem       box       obj       cls     total   targets  img_size\n",
      "  0%|                                                                                         | 0/5654 [00:00<?, ?it/s]"
     ]
    },
    {
     "name": "stdout",
     "output_type": "stream",
     "text": [
      "                 all    1.45e+04    1.52e+04       0.431       0.877       0.745       0.323\n"
     ]
    },
    {
     "name": "stderr",
     "output_type": "stream",
     "text": [
      "     18/59    0.466G   0.04266   0.01792  0.008691   0.06928         5       320: 100%|█| 5654/5654 [05:36<00:00, 16.81\n",
      "               Class      Images     Targets           P           R      mAP@.5  mAP@.5:.95: 100%|█| 2910/2910 [02:05<\n",
      "\n",
      "     Epoch   gpu_mem       box       obj       cls     total   targets  img_size\n"
     ]
    },
    {
     "name": "stdout",
     "output_type": "stream",
     "text": [
      "                 all    1.45e+04    1.52e+04       0.433        0.87       0.751       0.327\n"
     ]
    },
    {
     "name": "stderr",
     "output_type": "stream",
     "text": [
      "     19/59    0.466G   0.04235   0.01781  0.008872   0.06903         2       320: 100%|█| 5654/5654 [05:36<00:00, 16.82\n",
      "               Class      Images     Targets           P           R      mAP@.5  mAP@.5:.95: 100%|█| 2910/2910 [02:04<\n",
      "\n",
      "     Epoch   gpu_mem       box       obj       cls     total   targets  img_size\n",
      "  0%|                                                                                         | 0/5654 [00:00<?, ?it/s]"
     ]
    },
    {
     "name": "stdout",
     "output_type": "stream",
     "text": [
      "                 all    1.45e+04    1.52e+04       0.438       0.869       0.755       0.334\n"
     ]
    },
    {
     "name": "stderr",
     "output_type": "stream",
     "text": [
      "     20/59    0.466G   0.04231   0.01756  0.008499   0.06836         4       320: 100%|█| 5654/5654 [05:36<00:00, 16.82\n",
      "               Class      Images     Targets           P           R      mAP@.5  mAP@.5:.95: 100%|█| 2910/2910 [02:04<\n",
      "\n",
      "     Epoch   gpu_mem       box       obj       cls     total   targets  img_size\n",
      "  0%|                                                                                         | 0/5654 [00:00<?, ?it/s]"
     ]
    },
    {
     "name": "stdout",
     "output_type": "stream",
     "text": [
      "                 all    1.45e+04    1.52e+04       0.443       0.866        0.75       0.332\n"
     ]
    },
    {
     "name": "stderr",
     "output_type": "stream",
     "text": [
      "     21/59    0.466G   0.04228   0.01765  0.008802   0.06873         4       320: 100%|█| 5654/5654 [05:36<00:00, 16.78\n",
      "               Class      Images     Targets           P           R      mAP@.5  mAP@.5:.95: 100%|█| 2910/2910 [02:04<\n",
      "\n",
      "     Epoch   gpu_mem       box       obj       cls     total   targets  img_size\n",
      "  0%|                                                                                         | 0/5654 [00:00<?, ?it/s]"
     ]
    },
    {
     "name": "stdout",
     "output_type": "stream",
     "text": [
      "                 all    1.45e+04    1.52e+04       0.442       0.869       0.754       0.336\n"
     ]
    },
    {
     "name": "stderr",
     "output_type": "stream",
     "text": [
      "     22/59    0.466G   0.04211   0.01776  0.008792   0.06866         4       320: 100%|█| 5654/5654 [05:36<00:00, 16.81\n",
      "               Class      Images     Targets           P           R      mAP@.5  mAP@.5:.95: 100%|█| 2910/2910 [02:04<\n"
     ]
    },
    {
     "name": "stdout",
     "output_type": "stream",
     "text": [
      "                 all    1.45e+04    1.52e+04       0.449       0.874       0.766       0.343\n"
     ]
    },
    {
     "name": "stderr",
     "output_type": "stream",
     "text": [
      "\n",
      "     Epoch   gpu_mem       box       obj       cls     total   targets  img_size\n",
      "     23/59    0.466G   0.04207   0.01767  0.008323   0.06806         0       320: 100%|█| 5654/5654 [05:36<00:00, 16.78\n",
      "               Class      Images     Targets           P           R      mAP@.5  mAP@.5:.95: 100%|█| 2910/2910 [02:04<\n"
     ]
    },
    {
     "name": "stdout",
     "output_type": "stream",
     "text": [
      "                 all    1.45e+04    1.52e+04       0.448       0.874       0.765       0.343\n"
     ]
    },
    {
     "name": "stderr",
     "output_type": "stream",
     "text": [
      "\n",
      "     Epoch   gpu_mem       box       obj       cls     total   targets  img_size\n",
      "     24/59    0.466G   0.04193   0.01773  0.008323   0.06798         5       320: 100%|█| 5654/5654 [05:37<00:00, 16.77\n",
      "               Class      Images     Targets           P           R      mAP@.5  mAP@.5:.95: 100%|█| 2910/2910 [02:04<\n",
      "\n",
      "     Epoch   gpu_mem       box       obj       cls     total   targets  img_size\n",
      "  0%|                                                                                         | 0/5654 [00:00<?, ?it/s]"
     ]
    },
    {
     "name": "stdout",
     "output_type": "stream",
     "text": [
      "                 all    1.45e+04    1.52e+04       0.445       0.872       0.764       0.342\n"
     ]
    },
    {
     "name": "stderr",
     "output_type": "stream",
     "text": [
      "     25/59    0.466G   0.04197    0.0176  0.008571   0.06814         2       320: 100%|█| 5654/5654 [05:37<00:00, 16.76\n",
      "               Class      Images     Targets           P           R      mAP@.5  mAP@.5:.95: 100%|█| 2910/2910 [02:04<\n",
      "\n",
      "     Epoch   gpu_mem       box       obj       cls     total   targets  img_size\n",
      "  0%|                                                                                         | 0/5654 [00:00<?, ?it/s]"
     ]
    },
    {
     "name": "stdout",
     "output_type": "stream",
     "text": [
      "                 all    1.45e+04    1.52e+04       0.446       0.877       0.761       0.343\n"
     ]
    },
    {
     "name": "stderr",
     "output_type": "stream",
     "text": [
      "     26/59    0.466G   0.04152   0.01741  0.008204   0.06714         2       320: 100%|█| 5654/5654 [05:36<00:00, 16.79\n",
      "               Class      Images     Targets           P           R      mAP@.5  mAP@.5:.95: 100%|█| 2910/2910 [02:05<\n",
      "\n",
      "     Epoch   gpu_mem       box       obj       cls     total   targets  img_size\n",
      "  0%|                                                                                         | 0/5654 [00:00<?, ?it/s]"
     ]
    },
    {
     "name": "stdout",
     "output_type": "stream",
     "text": [
      "                 all    1.45e+04    1.52e+04       0.446       0.874        0.76       0.341\n"
     ]
    },
    {
     "name": "stderr",
     "output_type": "stream",
     "text": [
      "     27/59    0.466G   0.04148   0.01755  0.008161   0.06719         4       320: 100%|█| 5654/5654 [05:36<00:00, 16.79\n",
      "               Class      Images     Targets           P           R      mAP@.5  mAP@.5:.95: 100%|█| 2910/2910 [02:04<\n",
      "\n",
      "     Epoch   gpu_mem       box       obj       cls     total   targets  img_size\n",
      "  0%|                                                                                         | 0/5654 [00:00<?, ?it/s]"
     ]
    },
    {
     "name": "stdout",
     "output_type": "stream",
     "text": [
      "                 all    1.45e+04    1.52e+04       0.449       0.874       0.763       0.343\n"
     ]
    },
    {
     "name": "stderr",
     "output_type": "stream",
     "text": [
      "     28/59    0.466G   0.04174    0.0176  0.008164    0.0675         0       320: 100%|█| 5654/5654 [05:37<00:00, 16.77\n",
      "               Class      Images     Targets           P           R      mAP@.5  mAP@.5:.95: 100%|█| 2910/2910 [02:04<\n"
     ]
    },
    {
     "name": "stdout",
     "output_type": "stream",
     "text": [
      "                 all    1.45e+04    1.52e+04        0.45       0.872       0.764       0.344\n"
     ]
    },
    {
     "name": "stderr",
     "output_type": "stream",
     "text": [
      "\n",
      "     Epoch   gpu_mem       box       obj       cls     total   targets  img_size\n",
      "     29/59    0.466G   0.04169   0.01769  0.008122    0.0675         2       320: 100%|█| 5654/5654 [05:37<00:00, 16.77\n",
      "               Class      Images     Targets           P           R      mAP@.5  mAP@.5:.95: 100%|█| 2910/2910 [02:05<\n"
     ]
    },
    {
     "name": "stdout",
     "output_type": "stream",
     "text": [
      "                 all    1.45e+04    1.52e+04       0.451       0.874       0.767       0.345\n"
     ]
    },
    {
     "name": "stderr",
     "output_type": "stream",
     "text": [
      "\n",
      "     Epoch   gpu_mem       box       obj       cls     total   targets  img_size\n",
      "     30/59    0.466G   0.04131   0.01741  0.008051   0.06677         1       320: 100%|█| 5654/5654 [05:37<00:00, 16.75\n",
      "               Class      Images     Targets           P           R      mAP@.5  mAP@.5:.95: 100%|█| 2910/2910 [02:05<\n"
     ]
    },
    {
     "name": "stdout",
     "output_type": "stream",
     "text": [
      "                 all    1.45e+04    1.52e+04       0.454       0.875       0.771       0.347\n"
     ]
    },
    {
     "name": "stderr",
     "output_type": "stream",
     "text": [
      "\n",
      "     Epoch   gpu_mem       box       obj       cls     total   targets  img_size\n",
      "     31/59    0.466G   0.04108   0.01744  0.007916   0.06643         2       320: 100%|█| 5654/5654 [05:37<00:00, 16.76\n",
      "               Class      Images     Targets           P           R      mAP@.5  mAP@.5:.95: 100%|█| 2910/2910 [02:04<\n"
     ]
    },
    {
     "name": "stdout",
     "output_type": "stream",
     "text": [
      "                 all    1.45e+04    1.52e+04       0.456       0.878       0.771       0.347\n"
     ]
    },
    {
     "name": "stderr",
     "output_type": "stream",
     "text": [
      "\n",
      "     Epoch   gpu_mem       box       obj       cls     total   targets  img_size\n",
      "     32/59    0.466G   0.04107   0.01729  0.007944    0.0663         2       320: 100%|█| 5654/5654 [05:37<00:00, 16.75\n",
      "               Class      Images     Targets           P           R      mAP@.5  mAP@.5:.95: 100%|█| 2910/2910 [02:04<\n",
      "\n",
      "     Epoch   gpu_mem       box       obj       cls     total   targets  img_size\n",
      "  0%|                                                                                         | 0/5654 [00:00<?, ?it/s]"
     ]
    },
    {
     "name": "stdout",
     "output_type": "stream",
     "text": [
      "                 all    1.45e+04    1.52e+04       0.458       0.876       0.771       0.347\n"
     ]
    },
    {
     "name": "stderr",
     "output_type": "stream",
     "text": [
      "     33/59    0.466G   0.04081   0.01741   0.00802   0.06624         1       320: 100%|█| 5654/5654 [05:37<00:00, 16.73\n",
      "               Class      Images     Targets           P           R      mAP@.5  mAP@.5:.95: 100%|█| 2910/2910 [02:05<\n"
     ]
    },
    {
     "name": "stdout",
     "output_type": "stream",
     "text": [
      "                 all    1.45e+04    1.52e+04       0.458       0.878       0.773       0.349\n"
     ]
    },
    {
     "name": "stderr",
     "output_type": "stream",
     "text": [
      "\n",
      "     Epoch   gpu_mem       box       obj       cls     total   targets  img_size\n",
      "     34/59    0.466G   0.04074   0.01727  0.008004   0.06602         2       320: 100%|█| 5654/5654 [05:37<00:00, 16.77\n",
      "               Class      Images     Targets           P           R      mAP@.5  mAP@.5:.95: 100%|█| 2910/2910 [02:05<\n"
     ]
    },
    {
     "name": "stdout",
     "output_type": "stream",
     "text": [
      "                 all    1.45e+04    1.52e+04       0.458       0.877       0.773        0.35\n"
     ]
    },
    {
     "name": "stderr",
     "output_type": "stream",
     "text": [
      "\n",
      "     Epoch   gpu_mem       box       obj       cls     total   targets  img_size\n",
      "     35/59    0.466G   0.04074   0.01731  0.007838   0.06589         1       320: 100%|█| 5654/5654 [05:37<00:00, 16.78\n",
      "               Class      Images     Targets           P           R      mAP@.5  mAP@.5:.95: 100%|█| 2910/2910 [02:04<\n",
      "\n",
      "     Epoch   gpu_mem       box       obj       cls     total   targets  img_size\n",
      "  0%|                                                                                         | 0/5654 [00:00<?, ?it/s]"
     ]
    },
    {
     "name": "stdout",
     "output_type": "stream",
     "text": [
      "                 all    1.45e+04    1.52e+04       0.458       0.878       0.773        0.35\n"
     ]
    },
    {
     "name": "stderr",
     "output_type": "stream",
     "text": [
      "     36/59    0.466G   0.04075   0.01736  0.007635   0.06574         4       320: 100%|█| 5654/5654 [05:36<00:00, 16.79\n",
      "               Class      Images     Targets           P           R      mAP@.5  mAP@.5:.95: 100%|█| 2910/2910 [02:04<\n"
     ]
    },
    {
     "name": "stdout",
     "output_type": "stream",
     "text": [
      "                 all    1.45e+04    1.52e+04       0.459       0.879       0.775        0.35\n"
     ]
    },
    {
     "name": "stderr",
     "output_type": "stream",
     "text": [
      "\n",
      "     Epoch   gpu_mem       box       obj       cls     total   targets  img_size\n",
      "     37/59    0.466G    0.0405   0.01722  0.007576    0.0653         4       320: 100%|█| 5654/5654 [05:37<00:00, 16.75\n",
      "               Class      Images     Targets           P           R      mAP@.5  mAP@.5:.95: 100%|█| 2910/2910 [02:05<\n"
     ]
    },
    {
     "name": "stdout",
     "output_type": "stream",
     "text": [
      "                 all    1.45e+04    1.52e+04       0.462        0.88       0.775       0.351\n"
     ]
    },
    {
     "name": "stderr",
     "output_type": "stream",
     "text": [
      "\n",
      "     Epoch   gpu_mem       box       obj       cls     total   targets  img_size\n",
      "     38/59    0.466G   0.04051   0.01726  0.007681   0.06545         2       320: 100%|█| 5654/5654 [05:36<00:00, 16.78\n",
      "               Class      Images     Targets           P           R      mAP@.5  mAP@.5:.95: 100%|█| 2910/2910 [02:05<\n"
     ]
    },
    {
     "name": "stdout",
     "output_type": "stream",
     "text": [
      "                 all    1.45e+04    1.52e+04       0.462       0.881       0.775       0.351\n"
     ]
    },
    {
     "name": "stderr",
     "output_type": "stream",
     "text": [
      "\n",
      "     Epoch   gpu_mem       box       obj       cls     total   targets  img_size\n",
      "     39/59    0.466G   0.04036   0.01714  0.007827   0.06533         4       320: 100%|█| 5654/5654 [05:37<00:00, 16.75\n",
      "               Class      Images     Targets           P           R      mAP@.5  mAP@.5:.95: 100%|█| 2910/2910 [02:04<\n"
     ]
    },
    {
     "name": "stdout",
     "output_type": "stream",
     "text": [
      "                 all    1.45e+04    1.52e+04       0.464       0.881       0.777       0.352\n"
     ]
    },
    {
     "name": "stderr",
     "output_type": "stream",
     "text": [
      "\n",
      "     Epoch   gpu_mem       box       obj       cls     total   targets  img_size\n",
      "     40/59    0.466G   0.03992   0.01712  0.007571   0.06461         2       320: 100%|█| 5654/5654 [05:37<00:00, 16.78\n",
      "               Class      Images     Targets           P           R      mAP@.5  mAP@.5:.95: 100%|█| 2910/2910 [02:04<\n"
     ]
    },
    {
     "name": "stdout",
     "output_type": "stream",
     "text": [
      "                 all    1.45e+04    1.52e+04       0.464       0.881       0.778       0.352\n"
     ]
    },
    {
     "name": "stderr",
     "output_type": "stream",
     "text": [
      "\n",
      "     Epoch   gpu_mem       box       obj       cls     total   targets  img_size\n",
      "     41/59    0.466G   0.04003   0.01722  0.007205   0.06445         4       320: 100%|█| 5654/5654 [05:37<00:00, 16.74\n",
      "               Class      Images     Targets           P           R      mAP@.5  mAP@.5:.95: 100%|█| 2910/2910 [02:04<\n",
      "\n",
      "     Epoch   gpu_mem       box       obj       cls     total   targets  img_size\n",
      "  0%|                                                                                         | 0/5654 [00:00<?, ?it/s]"
     ]
    },
    {
     "name": "stdout",
     "output_type": "stream",
     "text": [
      "                 all    1.45e+04    1.52e+04       0.464        0.88       0.777       0.352\n"
     ]
    },
    {
     "name": "stderr",
     "output_type": "stream",
     "text": [
      "     42/59    0.466G   0.03981   0.01711  0.007403   0.06433         3       320: 100%|█| 5654/5654 [05:37<00:00, 16.77\n",
      "               Class      Images     Targets           P           R      mAP@.5  mAP@.5:.95: 100%|█| 2910/2910 [02:05<\n"
     ]
    },
    {
     "name": "stdout",
     "output_type": "stream",
     "text": [
      "                 all    1.45e+04    1.52e+04       0.463        0.88       0.777       0.353\n"
     ]
    },
    {
     "name": "stderr",
     "output_type": "stream",
     "text": [
      "\n",
      "     Epoch   gpu_mem       box       obj       cls     total   targets  img_size\n",
      "     43/59    0.466G   0.03966   0.01709  0.007313   0.06406         2       320: 100%|█| 5654/5654 [05:37<00:00, 16.77\n",
      "               Class      Images     Targets           P           R      mAP@.5  mAP@.5:.95: 100%|█| 2910/2910 [02:05<\n"
     ]
    },
    {
     "name": "stdout",
     "output_type": "stream",
     "text": [
      "                 all    1.45e+04    1.52e+04       0.465        0.88       0.778       0.354\n"
     ]
    },
    {
     "name": "stderr",
     "output_type": "stream",
     "text": [
      "\n",
      "     Epoch   gpu_mem       box       obj       cls     total   targets  img_size\n",
      "     44/59    0.466G   0.03946   0.01701  0.007257   0.06373         3       320: 100%|█| 5654/5654 [05:36<00:00, 16.79\n",
      "               Class      Images     Targets           P           R      mAP@.5  mAP@.5:.95: 100%|█| 2910/2910 [02:04<\n"
     ]
    },
    {
     "name": "stdout",
     "output_type": "stream",
     "text": [
      "                 all    1.45e+04    1.52e+04       0.465        0.88        0.78       0.355\n"
     ]
    },
    {
     "name": "stderr",
     "output_type": "stream",
     "text": [
      "\n",
      "     Epoch   gpu_mem       box       obj       cls     total   targets  img_size\n",
      "     45/59    0.466G   0.03935   0.01693  0.007086   0.06337         3       320: 100%|█| 5654/5654 [05:36<00:00, 16.79\n",
      "               Class      Images     Targets           P           R      mAP@.5  mAP@.5:.95: 100%|█| 2910/2910 [02:04<\n"
     ]
    },
    {
     "name": "stdout",
     "output_type": "stream",
     "text": [
      "                 all    1.45e+04    1.52e+04       0.465        0.88        0.78       0.355\n"
     ]
    },
    {
     "name": "stderr",
     "output_type": "stream",
     "text": [
      "\n",
      "     Epoch   gpu_mem       box       obj       cls     total   targets  img_size\n",
      "     46/59    0.466G   0.03951   0.01701  0.007385   0.06391         3       320: 100%|█| 5654/5654 [05:37<00:00, 16.77\n",
      "               Class      Images     Targets           P           R      mAP@.5  mAP@.5:.95: 100%|█| 2910/2910 [02:05<\n"
     ]
    },
    {
     "name": "stdout",
     "output_type": "stream",
     "text": [
      "                 all    1.45e+04    1.52e+04       0.467       0.881       0.781       0.356\n"
     ]
    },
    {
     "name": "stderr",
     "output_type": "stream",
     "text": [
      "\n",
      "     Epoch   gpu_mem       box       obj       cls     total   targets  img_size\n",
      "     47/59    0.466G    0.0392   0.01698  0.007068   0.06325         3       320: 100%|█| 5654/5654 [05:37<00:00, 16.74\n",
      "               Class      Images     Targets           P           R      mAP@.5  mAP@.5:.95: 100%|█| 2910/2910 [02:04<\n"
     ]
    },
    {
     "name": "stdout",
     "output_type": "stream",
     "text": [
      "                 all    1.45e+04    1.52e+04       0.467       0.881       0.783       0.356\n"
     ]
    },
    {
     "name": "stderr",
     "output_type": "stream",
     "text": [
      "\n",
      "     Epoch   gpu_mem       box       obj       cls     total   targets  img_size\n",
      "     48/59    0.466G   0.03905   0.01679  0.007063   0.06291         3       320: 100%|█| 5654/5654 [05:37<00:00, 16.74\n",
      "               Class      Images     Targets           P           R      mAP@.5  mAP@.5:.95: 100%|█| 2910/2910 [02:04<\n"
     ]
    },
    {
     "name": "stdout",
     "output_type": "stream",
     "text": [
      "                 all    1.45e+04    1.52e+04       0.469       0.882       0.783       0.356\n"
     ]
    },
    {
     "name": "stderr",
     "output_type": "stream",
     "text": [
      "\n",
      "     Epoch   gpu_mem       box       obj       cls     total   targets  img_size\n",
      "     49/59    0.466G   0.03895   0.01694  0.006719   0.06261         3       320: 100%|█| 5654/5654 [05:37<00:00, 16.77\n",
      "               Class      Images     Targets           P           R      mAP@.5  mAP@.5:.95: 100%|█| 2910/2910 [02:05<\n",
      "\n",
      "     Epoch   gpu_mem       box       obj       cls     total   targets  img_size\n",
      "  0%|                                                                                         | 0/5654 [00:00<?, ?it/s]"
     ]
    },
    {
     "name": "stdout",
     "output_type": "stream",
     "text": [
      "                 all    1.45e+04    1.52e+04       0.469       0.882       0.783       0.356\n"
     ]
    },
    {
     "name": "stderr",
     "output_type": "stream",
     "text": [
      "     50/59    0.466G   0.03859   0.01675  0.006951   0.06229         2       320: 100%|█| 5654/5654 [05:37<00:00, 16.76\n",
      "               Class      Images     Targets           P           R      mAP@.5  mAP@.5:.95: 100%|█| 2910/2910 [02:05<\n"
     ]
    },
    {
     "name": "stdout",
     "output_type": "stream",
     "text": [
      "                 all    1.45e+04    1.52e+04       0.472       0.883       0.784       0.357\n"
     ]
    },
    {
     "name": "stderr",
     "output_type": "stream",
     "text": [
      "\n",
      "     Epoch   gpu_mem       box       obj       cls     total   targets  img_size\n",
      "     51/59    0.466G   0.03851   0.01683  0.006896   0.06224         1       320: 100%|█| 5654/5654 [05:37<00:00, 16.76\n",
      "               Class      Images     Targets           P           R      mAP@.5  mAP@.5:.95: 100%|█| 2910/2910 [02:05<\n"
     ]
    },
    {
     "name": "stdout",
     "output_type": "stream",
     "text": [
      "                 all    1.45e+04    1.52e+04       0.474       0.883       0.785       0.358\n"
     ]
    },
    {
     "name": "stderr",
     "output_type": "stream",
     "text": [
      "\n",
      "     Epoch   gpu_mem       box       obj       cls     total   targets  img_size\n",
      "     52/59    0.466G   0.03869   0.01675  0.006796   0.06223         3       320: 100%|█| 5654/5654 [05:36<00:00, 16.78\n",
      "               Class      Images     Targets           P           R      mAP@.5  mAP@.5:.95: 100%|█| 2910/2910 [02:04<\n"
     ]
    },
    {
     "name": "stdout",
     "output_type": "stream",
     "text": [
      "                 all    1.45e+04    1.52e+04       0.475       0.884       0.786       0.358\n"
     ]
    },
    {
     "name": "stderr",
     "output_type": "stream",
     "text": [
      "\n",
      "     Epoch   gpu_mem       box       obj       cls     total   targets  img_size\n",
      "     53/59    0.466G   0.03858   0.01666  0.006728   0.06198         4       320: 100%|█| 5654/5654 [05:37<00:00, 16.77\n",
      "               Class      Images     Targets           P           R      mAP@.5  mAP@.5:.95: 100%|█| 2910/2910 [02:04<\n"
     ]
    },
    {
     "name": "stdout",
     "output_type": "stream",
     "text": [
      "                 all    1.45e+04    1.52e+04       0.477       0.884       0.787       0.359\n"
     ]
    },
    {
     "name": "stderr",
     "output_type": "stream",
     "text": [
      "\n",
      "     Epoch   gpu_mem       box       obj       cls     total   targets  img_size\n",
      "     54/59    0.466G    0.0381   0.01668   0.00658   0.06136         3       320: 100%|█| 5654/5654 [05:35<00:00, 16.84\n",
      "               Class      Images     Targets           P           R      mAP@.5  mAP@.5:.95: 100%|█| 2910/2910 [02:05<\n",
      "\n",
      "     Epoch   gpu_mem       box       obj       cls     total   targets  img_size\n",
      "  0%|                                                                                         | 0/5654 [00:00<?, ?it/s]"
     ]
    },
    {
     "name": "stdout",
     "output_type": "stream",
     "text": [
      "                 all    1.45e+04    1.52e+04       0.479       0.884       0.788       0.359\n"
     ]
    },
    {
     "name": "stderr",
     "output_type": "stream",
     "text": [
      "     55/59    0.466G   0.03819   0.01653  0.006493   0.06121         1       320: 100%|█| 5654/5654 [05:37<00:00, 16.77\n",
      "               Class      Images     Targets           P           R      mAP@.5  mAP@.5:.95: 100%|█| 2910/2910 [02:05<\n",
      "\n",
      "     Epoch   gpu_mem       box       obj       cls     total   targets  img_size\n",
      "  0%|                                                                                         | 0/5654 [00:00<?, ?it/s]"
     ]
    },
    {
     "name": "stdout",
     "output_type": "stream",
     "text": [
      "                 all    1.45e+04    1.52e+04        0.48       0.885       0.788       0.359\n"
     ]
    },
    {
     "name": "stderr",
     "output_type": "stream",
     "text": [
      "     56/59    0.466G   0.03813   0.01663  0.006502   0.06127         2       320: 100%|█| 5654/5654 [05:36<00:00, 16.78\n",
      "               Class      Images     Targets           P           R      mAP@.5  mAP@.5:.95: 100%|█| 2910/2910 [02:04<\n"
     ]
    },
    {
     "name": "stdout",
     "output_type": "stream",
     "text": [
      "                 all    1.45e+04    1.52e+04       0.482       0.885       0.789        0.36\n"
     ]
    },
    {
     "name": "stderr",
     "output_type": "stream",
     "text": [
      "\n",
      "     Epoch   gpu_mem       box       obj       cls     total   targets  img_size\n",
      "     57/59    0.466G   0.03812   0.01655  0.006603   0.06128         2       320: 100%|█| 5654/5654 [05:37<00:00, 16.78\n",
      "               Class      Images     Targets           P           R      mAP@.5  mAP@.5:.95: 100%|█| 2910/2910 [02:05<\n"
     ]
    },
    {
     "name": "stdout",
     "output_type": "stream",
     "text": [
      "                 all    1.45e+04    1.52e+04       0.483       0.885        0.79       0.361\n"
     ]
    },
    {
     "name": "stderr",
     "output_type": "stream",
     "text": [
      "\n",
      "     Epoch   gpu_mem       box       obj       cls     total   targets  img_size\n",
      "     58/59    0.466G   0.03827   0.01659  0.006518   0.06138         3       320: 100%|█| 5654/5654 [05:38<00:00, 16.73\n",
      "               Class      Images     Targets           P           R      mAP@.5  mAP@.5:.95: 100%|█| 2910/2910 [02:04<\n"
     ]
    },
    {
     "name": "stdout",
     "output_type": "stream",
     "text": [
      "                 all    1.45e+04    1.52e+04       0.484       0.885       0.791       0.361\n"
     ]
    },
    {
     "name": "stderr",
     "output_type": "stream",
     "text": [
      "\n",
      "     Epoch   gpu_mem       box       obj       cls     total   targets  img_size\n",
      "     59/59    0.466G   0.03814   0.01655  0.006518    0.0612         4       320: 100%|█| 5654/5654 [05:37<00:00, 16.77\n",
      "               Class      Images     Targets           P           R      mAP@.5  mAP@.5:.95: 100%|█| 2910/2910 [02:19<\n",
      "Note: NumExpr detected 16 cores but \"NUMEXPR_MAX_THREADS\" not set, so enforcing safe limit of 8.\n",
      "NumExpr defaulting to 8 threads.\n"
     ]
    },
    {
     "name": "stdout",
     "output_type": "stream",
     "text": [
      "                 all    1.45e+04    1.52e+04       0.486       0.886       0.792       0.361\n",
      "Optimizer stripped from runs\\train\\exp41\\weights\\last.pt, 14.8MB\n",
      "Optimizer stripped from runs\\train\\exp41\\weights\\best.pt, 14.8MB\n"
     ]
    },
    {
     "name": "stderr",
     "output_type": "stream",
     "text": [
      "60 epochs completed in 7.730 hours.\n",
      "\n"
     ]
    }
   ],
   "source": [
    "%run train.py --img 320 --batch 5 --epochs 60 --data ./data/train_imgs_sliced_320_val.yaml --weights ./runs/train/exp40/weights/last.pt"
   ]
  },
  {
   "cell_type": "code",
   "execution_count": 2,
   "metadata": {},
   "outputs": [
    {
     "name": "stderr",
     "output_type": "stream",
     "text": [
      "Using torch 1.6.0+cu101 CUDA:0 (GeForce RTX 2060, 6144MB)\n",
      "\n",
      "Namespace(adam=False, batch_size=5, bucket='', cache_images=False, cfg='./models/yolov5s_se.yaml', data='./data/train_imgs_sliced_320_val.yaml', device='', epochs=60, evolve=False, exist_ok=False, global_rank=-1, hyp='data/hyp.scratch.yaml', image_weights=False, img_size=[320, 320], local_rank=-1, log_imgs=16, multi_scale=False, name='exp', noautoanchor=False, nosave=False, notest=False, project='runs/train', rect=False, resume=False, save_dir='runs\\\\train\\\\exp48', single_cls=False, sync_bn=False, total_batch_size=5, weights=\"''\", workers=8, world_size=1)\n",
      "Start Tensorboard with \"tensorboard --logdir runs/train\", view at http://localhost:6006/\n",
      "Hyperparameters {'lr0': 0.01, 'lrf': 0.2, 'momentum': 0.937, 'weight_decay': 0.0005, 'warmup_epochs': 3.0, 'warmup_momentum': 0.8, 'warmup_bias_lr': 0.1, 'box': 0.05, 'cls': 0.5, 'cls_pw': 1.0, 'obj': 1.0, 'obj_pw': 1.0, 'iou_t': 0.2, 'anchor_t': 4.0, 'fl_gamma': 0.0, 'hsv_h': 0.015, 'hsv_s': 0.7, 'hsv_v': 0.4, 'degrees': 0.0, 'translate': 0.1, 'scale': 0.5, 'shear': 0.0, 'perspective': 0.0, 'flipud': 0.0, 'fliplr': 0.5, 'mosaic': 1.0, 'mixup': 0.0}\n",
      "\n",
      "                 from  n    params  module                                  arguments                     \n",
      "  0                -1  1      3520  models.common.Focus                     [3, 32, 3]                    \n",
      "  1                -1  1     18560  models.common.Conv                      [32, 64, 3, 2]                \n",
      "  2                -1  1     19904  models.common.BottleneckCSP             [64, 64, 1]                   \n",
      "  3                -1  1     73984  models.common.Conv                      [64, 128, 3, 2]               \n",
      "  4                -1  1    161152  models.common.BottleneckCSP             [128, 128, 3]                 \n",
      "  5                -1  1      2048  models.common.SELayer                   [128, 16]                     \n",
      "  6                -1  1    295424  models.common.Conv                      [128, 256, 3, 2]              \n",
      "  7                -1  1    641792  models.common.BottleneckCSP             [256, 256, 3]                 \n",
      "  8                -1  1      8192  models.common.SELayer                   [256, 16]                     \n",
      "  9                -1  1   1180672  models.common.Conv                      [256, 512, 3, 2]              \n",
      " 10                -1  1    656896  models.common.SPP                       [512, 512, [5, 9, 13]]        \n",
      " 11                -1  1   1248768  models.common.BottleneckCSP             [512, 512, 1, False]          \n",
      " 12                -1  1    131584  models.common.Conv                      [512, 256, 1, 1]              \n",
      " 13                -1  1         0  torch.nn.modules.upsampling.Upsample    [None, 2, 'nearest']          \n",
      " 14           [-1, 8]  1         0  models.common.Concat                    [1]                           \n",
      " 15                -1  1    378624  models.common.BottleneckCSP             [512, 256, 1, False]          \n",
      " 16                -1  1     33024  models.common.Conv                      [256, 128, 1, 1]              \n",
      " 17                -1  1         0  torch.nn.modules.upsampling.Upsample    [None, 2, 'nearest']          \n",
      " 18           [-1, 5]  1         0  models.common.Concat                    [1]                           \n",
      " 19                -1  1     95104  models.common.BottleneckCSP             [256, 128, 1, False]          \n",
      " 20                -1  1    147712  models.common.Conv                      [128, 128, 3, 2]              \n",
      " 21          [-1, 16]  1         0  models.common.Concat                    [1]                           \n",
      " 22                -1  1    313088  models.common.BottleneckCSP             [256, 256, 1, False]          \n",
      " 23                -1  1    590336  models.common.Conv                      [256, 256, 3, 2]              \n",
      " 24          [-1, 12]  1         0  models.common.Concat                    [1]                           \n",
      " 25                -1  1   1248768  models.common.BottleneckCSP             [512, 512, 1, False]          \n",
      " 26      [19, 22, 25]  1     32364  models.yolo.Detect                      [7, [[9, 9, 14, 14, 23, 20], [61, 25, 34, 50, 55, 108], [124, 49, 237, 85, 111, 224]], [128, 256, 512]]\n",
      "Model Summary: 297 layers, 7281516 parameters, 7281516 gradients\n",
      "\n",
      "Optimizer groups: 62 .bias, 74 conv.weight, 59 other\n",
      "Scanning '..\\train_imgs_sliced_all_320_val6\\labels.cache' for images and labels... 28267 found, 0 missing, 0 empty, 0 c\n",
      "Scanning '..\\train_imgs_sliced_all_320_val\\labels.cache' for images and labels... 14548 found, 0 missing, 0 empty, 0 co\n",
      "Image sizes 320 train, 320 test\n",
      "Using 5 dataloader workers\n",
      "Logging results to runs\\train\\exp48\n",
      "Starting training for 60 epochs...\n",
      "\n",
      "     Epoch   gpu_mem       box       obj       cls     total   targets  img_size\n",
      "  0%|                                                                                         | 0/5654 [00:00<?, ?it/s]"
     ]
    },
    {
     "name": "stdout",
     "output_type": "stream",
     "text": [
      "\n",
      "Analyzing anchors... anchors/target = 4.01, Best Possible Recall (BPR) = 1.0000\n"
     ]
    },
    {
     "name": "stderr",
     "output_type": "stream",
     "text": [
      "      0/59    0.612G    0.1001   0.02799   0.03567    0.1637         7       320: 100%|█| 5654/5654 [06:23<00:00, 14.74\n",
      "               Class      Images     Targets           P           R      mAP@.5  mAP@.5:.95:   0%| | 7/2910 [00:02<17:\n"
     ]
    },
    {
     "ename": "RuntimeError",
     "evalue": "CUDA out of memory. Tried to allocate 1.14 GiB (GPU 0; 6.00 GiB total capacity; 115.37 MiB already allocated; 3.83 GiB free; 384.00 MiB reserved in total by PyTorch)",
     "output_type": "error",
     "traceback": [
      "\u001b[1;31m---------------------------------------------------------------------------\u001b[0m",
      "\u001b[1;31mRuntimeError\u001b[0m                              Traceback (most recent call last)",
      "\u001b[1;32mD:\\Jupyter_Data\\tile_tianchi\\yolov5\\train.py\u001b[0m in \u001b[0;36m<module>\u001b[1;34m\u001b[0m\n\u001b[0;32m    504\u001b[0m             \u001b[0mlogger\u001b[0m\u001b[1;33m.\u001b[0m\u001b[0minfo\u001b[0m\u001b[1;33m(\u001b[0m\u001b[1;34mf'Start Tensorboard with \"tensorboard --logdir {opt.project}\", view at http://localhost:6006/'\u001b[0m\u001b[1;33m)\u001b[0m\u001b[1;33m\u001b[0m\u001b[1;33m\u001b[0m\u001b[0m\n\u001b[0;32m    505\u001b[0m             \u001b[0mtb_writer\u001b[0m \u001b[1;33m=\u001b[0m \u001b[0mSummaryWriter\u001b[0m\u001b[1;33m(\u001b[0m\u001b[0mopt\u001b[0m\u001b[1;33m.\u001b[0m\u001b[0msave_dir\u001b[0m\u001b[1;33m)\u001b[0m  \u001b[1;31m# Tensorboard\u001b[0m\u001b[1;33m\u001b[0m\u001b[1;33m\u001b[0m\u001b[0m\n\u001b[1;32m--> 506\u001b[1;33m         \u001b[0mtrain\u001b[0m\u001b[1;33m(\u001b[0m\u001b[0mhyp\u001b[0m\u001b[1;33m,\u001b[0m \u001b[0mopt\u001b[0m\u001b[1;33m,\u001b[0m \u001b[0mdevice\u001b[0m\u001b[1;33m,\u001b[0m \u001b[0mtb_writer\u001b[0m\u001b[1;33m,\u001b[0m \u001b[0mwandb\u001b[0m\u001b[1;33m)\u001b[0m\u001b[1;33m\u001b[0m\u001b[1;33m\u001b[0m\u001b[0m\n\u001b[0m\u001b[0;32m    507\u001b[0m \u001b[1;33m\u001b[0m\u001b[0m\n\u001b[0;32m    508\u001b[0m     \u001b[1;31m# Evolve hyperparameters (optional)\u001b[0m\u001b[1;33m\u001b[0m\u001b[1;33m\u001b[0m\u001b[1;33m\u001b[0m\u001b[0m\n",
      "\u001b[1;32mD:\\Jupyter_Data\\tile_tianchi\\yolov5\\train.py\u001b[0m in \u001b[0;36mtrain\u001b[1;34m(hyp, opt, device, tb_writer, wandb)\u001b[0m\n\u001b[0;32m    342\u001b[0m                                                  \u001b[0msave_dir\u001b[0m\u001b[1;33m=\u001b[0m\u001b[0msave_dir\u001b[0m\u001b[1;33m,\u001b[0m\u001b[1;33m\u001b[0m\u001b[1;33m\u001b[0m\u001b[0m\n\u001b[0;32m    343\u001b[0m                                                  \u001b[0mplots\u001b[0m\u001b[1;33m=\u001b[0m\u001b[0mplots\u001b[0m \u001b[1;32mand\u001b[0m \u001b[0mfinal_epoch\u001b[0m\u001b[1;33m,\u001b[0m\u001b[1;33m\u001b[0m\u001b[1;33m\u001b[0m\u001b[0m\n\u001b[1;32m--> 344\u001b[1;33m                                                  log_imgs=opt.log_imgs if wandb else 0)\n\u001b[0m\u001b[0;32m    345\u001b[0m \u001b[1;33m\u001b[0m\u001b[0m\n\u001b[0;32m    346\u001b[0m             \u001b[1;31m# Write\u001b[0m\u001b[1;33m\u001b[0m\u001b[1;33m\u001b[0m\u001b[1;33m\u001b[0m\u001b[0m\n",
      "\u001b[1;32mD:\\Jupyter_Data\\tile_tianchi\\yolov5\\test.py\u001b[0m in \u001b[0;36mtest\u001b[1;34m(data, weights, batch_size, imgsz, conf_thres, iou_thres, save_json, single_cls, augment, verbose, model, dataloader, save_dir, save_txt, save_hybrid, save_conf, plots, log_imgs)\u001b[0m\n\u001b[0;32m    107\u001b[0m             \u001b[1;31m# Run model\u001b[0m\u001b[1;33m\u001b[0m\u001b[1;33m\u001b[0m\u001b[1;33m\u001b[0m\u001b[0m\n\u001b[0;32m    108\u001b[0m             \u001b[0mt\u001b[0m \u001b[1;33m=\u001b[0m \u001b[0mtime_synchronized\u001b[0m\u001b[1;33m(\u001b[0m\u001b[1;33m)\u001b[0m\u001b[1;33m\u001b[0m\u001b[1;33m\u001b[0m\u001b[0m\n\u001b[1;32m--> 109\u001b[1;33m             \u001b[0minf_out\u001b[0m\u001b[1;33m,\u001b[0m \u001b[0mtrain_out\u001b[0m \u001b[1;33m=\u001b[0m \u001b[0mmodel\u001b[0m\u001b[1;33m(\u001b[0m\u001b[0mimg\u001b[0m\u001b[1;33m,\u001b[0m \u001b[0maugment\u001b[0m\u001b[1;33m=\u001b[0m\u001b[0maugment\u001b[0m\u001b[1;33m)\u001b[0m  \u001b[1;31m# inference and training outputs\u001b[0m\u001b[1;33m\u001b[0m\u001b[1;33m\u001b[0m\u001b[0m\n\u001b[0m\u001b[0;32m    110\u001b[0m             \u001b[0mt0\u001b[0m \u001b[1;33m+=\u001b[0m \u001b[0mtime_synchronized\u001b[0m\u001b[1;33m(\u001b[0m\u001b[1;33m)\u001b[0m \u001b[1;33m-\u001b[0m \u001b[0mt\u001b[0m\u001b[1;33m\u001b[0m\u001b[1;33m\u001b[0m\u001b[0m\n\u001b[0;32m    111\u001b[0m \u001b[1;33m\u001b[0m\u001b[0m\n",
      "\u001b[1;32mD:\\WPy64-3760\\python-3.7.6.amd64\\lib\\site-packages\\torch\\nn\\modules\\module.py\u001b[0m in \u001b[0;36m_call_impl\u001b[1;34m(self, *input, **kwargs)\u001b[0m\n\u001b[0;32m    720\u001b[0m             \u001b[0mresult\u001b[0m \u001b[1;33m=\u001b[0m \u001b[0mself\u001b[0m\u001b[1;33m.\u001b[0m\u001b[0m_slow_forward\u001b[0m\u001b[1;33m(\u001b[0m\u001b[1;33m*\u001b[0m\u001b[0minput\u001b[0m\u001b[1;33m,\u001b[0m \u001b[1;33m**\u001b[0m\u001b[0mkwargs\u001b[0m\u001b[1;33m)\u001b[0m\u001b[1;33m\u001b[0m\u001b[1;33m\u001b[0m\u001b[0m\n\u001b[0;32m    721\u001b[0m         \u001b[1;32melse\u001b[0m\u001b[1;33m:\u001b[0m\u001b[1;33m\u001b[0m\u001b[1;33m\u001b[0m\u001b[0m\n\u001b[1;32m--> 722\u001b[1;33m             \u001b[0mresult\u001b[0m \u001b[1;33m=\u001b[0m \u001b[0mself\u001b[0m\u001b[1;33m.\u001b[0m\u001b[0mforward\u001b[0m\u001b[1;33m(\u001b[0m\u001b[1;33m*\u001b[0m\u001b[0minput\u001b[0m\u001b[1;33m,\u001b[0m \u001b[1;33m**\u001b[0m\u001b[0mkwargs\u001b[0m\u001b[1;33m)\u001b[0m\u001b[1;33m\u001b[0m\u001b[1;33m\u001b[0m\u001b[0m\n\u001b[0m\u001b[0;32m    723\u001b[0m         for hook in itertools.chain(\n\u001b[0;32m    724\u001b[0m                 \u001b[0m_global_forward_hooks\u001b[0m\u001b[1;33m.\u001b[0m\u001b[0mvalues\u001b[0m\u001b[1;33m(\u001b[0m\u001b[1;33m)\u001b[0m\u001b[1;33m,\u001b[0m\u001b[1;33m\u001b[0m\u001b[1;33m\u001b[0m\u001b[0m\n",
      "\u001b[1;32mD:\\Jupyter_Data\\tile_tianchi\\yolov5\\models\\yolo.py\u001b[0m in \u001b[0;36mforward\u001b[1;34m(self, x, augment, profile)\u001b[0m\n\u001b[0;32m    120\u001b[0m             \u001b[1;32mreturn\u001b[0m \u001b[0mtorch\u001b[0m\u001b[1;33m.\u001b[0m\u001b[0mcat\u001b[0m\u001b[1;33m(\u001b[0m\u001b[0my\u001b[0m\u001b[1;33m,\u001b[0m \u001b[1;36m1\u001b[0m\u001b[1;33m)\u001b[0m\u001b[1;33m,\u001b[0m \u001b[1;32mNone\u001b[0m  \u001b[1;31m# augmented inference, train\u001b[0m\u001b[1;33m\u001b[0m\u001b[1;33m\u001b[0m\u001b[0m\n\u001b[0;32m    121\u001b[0m         \u001b[1;32melse\u001b[0m\u001b[1;33m:\u001b[0m\u001b[1;33m\u001b[0m\u001b[1;33m\u001b[0m\u001b[0m\n\u001b[1;32m--> 122\u001b[1;33m             \u001b[1;32mreturn\u001b[0m \u001b[0mself\u001b[0m\u001b[1;33m.\u001b[0m\u001b[0mforward_once\u001b[0m\u001b[1;33m(\u001b[0m\u001b[0mx\u001b[0m\u001b[1;33m,\u001b[0m \u001b[0mprofile\u001b[0m\u001b[1;33m)\u001b[0m  \u001b[1;31m# single-scale inference, train\u001b[0m\u001b[1;33m\u001b[0m\u001b[1;33m\u001b[0m\u001b[0m\n\u001b[0m\u001b[0;32m    123\u001b[0m \u001b[1;33m\u001b[0m\u001b[0m\n\u001b[0;32m    124\u001b[0m     \u001b[1;32mdef\u001b[0m \u001b[0mforward_once\u001b[0m\u001b[1;33m(\u001b[0m\u001b[0mself\u001b[0m\u001b[1;33m,\u001b[0m \u001b[0mx\u001b[0m\u001b[1;33m,\u001b[0m \u001b[0mprofile\u001b[0m\u001b[1;33m=\u001b[0m\u001b[1;32mFalse\u001b[0m\u001b[1;33m)\u001b[0m\u001b[1;33m:\u001b[0m\u001b[1;33m\u001b[0m\u001b[1;33m\u001b[0m\u001b[0m\n",
      "\u001b[1;32mD:\\Jupyter_Data\\tile_tianchi\\yolov5\\models\\yolo.py\u001b[0m in \u001b[0;36mforward_once\u001b[1;34m(self, x, profile)\u001b[0m\n\u001b[0;32m    136\u001b[0m                 \u001b[0mprint\u001b[0m\u001b[1;33m(\u001b[0m\u001b[1;34m'%10.1f%10.0f%10.1fms %-40s'\u001b[0m \u001b[1;33m%\u001b[0m \u001b[1;33m(\u001b[0m\u001b[0mo\u001b[0m\u001b[1;33m,\u001b[0m \u001b[0mm\u001b[0m\u001b[1;33m.\u001b[0m\u001b[0mnp\u001b[0m\u001b[1;33m,\u001b[0m \u001b[0mdt\u001b[0m\u001b[1;33m[\u001b[0m\u001b[1;33m-\u001b[0m\u001b[1;36m1\u001b[0m\u001b[1;33m]\u001b[0m\u001b[1;33m,\u001b[0m \u001b[0mm\u001b[0m\u001b[1;33m.\u001b[0m\u001b[0mtype\u001b[0m\u001b[1;33m)\u001b[0m\u001b[1;33m)\u001b[0m\u001b[1;33m\u001b[0m\u001b[1;33m\u001b[0m\u001b[0m\n\u001b[0;32m    137\u001b[0m \u001b[1;33m\u001b[0m\u001b[0m\n\u001b[1;32m--> 138\u001b[1;33m             \u001b[0mx\u001b[0m \u001b[1;33m=\u001b[0m \u001b[0mm\u001b[0m\u001b[1;33m(\u001b[0m\u001b[0mx\u001b[0m\u001b[1;33m)\u001b[0m  \u001b[1;31m# run\u001b[0m\u001b[1;33m\u001b[0m\u001b[1;33m\u001b[0m\u001b[0m\n\u001b[0m\u001b[0;32m    139\u001b[0m             \u001b[0my\u001b[0m\u001b[1;33m.\u001b[0m\u001b[0mappend\u001b[0m\u001b[1;33m(\u001b[0m\u001b[0mx\u001b[0m \u001b[1;32mif\u001b[0m \u001b[0mm\u001b[0m\u001b[1;33m.\u001b[0m\u001b[0mi\u001b[0m \u001b[1;32min\u001b[0m \u001b[0mself\u001b[0m\u001b[1;33m.\u001b[0m\u001b[0msave\u001b[0m \u001b[1;32melse\u001b[0m \u001b[1;32mNone\u001b[0m\u001b[1;33m)\u001b[0m  \u001b[1;31m# save output\u001b[0m\u001b[1;33m\u001b[0m\u001b[1;33m\u001b[0m\u001b[0m\n\u001b[0;32m    140\u001b[0m \u001b[1;33m\u001b[0m\u001b[0m\n",
      "\u001b[1;32mD:\\WPy64-3760\\python-3.7.6.amd64\\lib\\site-packages\\torch\\nn\\modules\\module.py\u001b[0m in \u001b[0;36m_call_impl\u001b[1;34m(self, *input, **kwargs)\u001b[0m\n\u001b[0;32m    720\u001b[0m             \u001b[0mresult\u001b[0m \u001b[1;33m=\u001b[0m \u001b[0mself\u001b[0m\u001b[1;33m.\u001b[0m\u001b[0m_slow_forward\u001b[0m\u001b[1;33m(\u001b[0m\u001b[1;33m*\u001b[0m\u001b[0minput\u001b[0m\u001b[1;33m,\u001b[0m \u001b[1;33m**\u001b[0m\u001b[0mkwargs\u001b[0m\u001b[1;33m)\u001b[0m\u001b[1;33m\u001b[0m\u001b[1;33m\u001b[0m\u001b[0m\n\u001b[0;32m    721\u001b[0m         \u001b[1;32melse\u001b[0m\u001b[1;33m:\u001b[0m\u001b[1;33m\u001b[0m\u001b[1;33m\u001b[0m\u001b[0m\n\u001b[1;32m--> 722\u001b[1;33m             \u001b[0mresult\u001b[0m \u001b[1;33m=\u001b[0m \u001b[0mself\u001b[0m\u001b[1;33m.\u001b[0m\u001b[0mforward\u001b[0m\u001b[1;33m(\u001b[0m\u001b[1;33m*\u001b[0m\u001b[0minput\u001b[0m\u001b[1;33m,\u001b[0m \u001b[1;33m**\u001b[0m\u001b[0mkwargs\u001b[0m\u001b[1;33m)\u001b[0m\u001b[1;33m\u001b[0m\u001b[1;33m\u001b[0m\u001b[0m\n\u001b[0m\u001b[0;32m    723\u001b[0m         for hook in itertools.chain(\n\u001b[0;32m    724\u001b[0m                 \u001b[0m_global_forward_hooks\u001b[0m\u001b[1;33m.\u001b[0m\u001b[0mvalues\u001b[0m\u001b[1;33m(\u001b[0m\u001b[1;33m)\u001b[0m\u001b[1;33m,\u001b[0m\u001b[1;33m\u001b[0m\u001b[1;33m\u001b[0m\u001b[0m\n",
      "\u001b[1;32mD:\\Jupyter_Data\\tile_tianchi\\yolov5\\models\\common.py\u001b[0m in \u001b[0;36mforward\u001b[1;34m(self, x)\u001b[0m\n\u001b[0;32m     97\u001b[0m     \u001b[1;32mdef\u001b[0m \u001b[0mforward\u001b[0m\u001b[1;33m(\u001b[0m\u001b[0mself\u001b[0m\u001b[1;33m,\u001b[0m \u001b[0mx\u001b[0m\u001b[1;33m)\u001b[0m\u001b[1;33m:\u001b[0m\u001b[1;33m\u001b[0m\u001b[1;33m\u001b[0m\u001b[0m\n\u001b[0;32m     98\u001b[0m         \u001b[0mx\u001b[0m \u001b[1;33m=\u001b[0m \u001b[0mself\u001b[0m\u001b[1;33m.\u001b[0m\u001b[0mcv1\u001b[0m\u001b[1;33m(\u001b[0m\u001b[0mx\u001b[0m\u001b[1;33m)\u001b[0m\u001b[1;33m\u001b[0m\u001b[1;33m\u001b[0m\u001b[0m\n\u001b[1;32m---> 99\u001b[1;33m         \u001b[1;32mreturn\u001b[0m \u001b[0mself\u001b[0m\u001b[1;33m.\u001b[0m\u001b[0mcv2\u001b[0m\u001b[1;33m(\u001b[0m\u001b[0mtorch\u001b[0m\u001b[1;33m.\u001b[0m\u001b[0mcat\u001b[0m\u001b[1;33m(\u001b[0m\u001b[1;33m[\u001b[0m\u001b[0mx\u001b[0m\u001b[1;33m]\u001b[0m \u001b[1;33m+\u001b[0m \u001b[1;33m[\u001b[0m\u001b[0mm\u001b[0m\u001b[1;33m(\u001b[0m\u001b[0mx\u001b[0m\u001b[1;33m)\u001b[0m \u001b[1;32mfor\u001b[0m \u001b[0mm\u001b[0m \u001b[1;32min\u001b[0m \u001b[0mself\u001b[0m\u001b[1;33m.\u001b[0m\u001b[0mm\u001b[0m\u001b[1;33m]\u001b[0m\u001b[1;33m,\u001b[0m \u001b[1;36m1\u001b[0m\u001b[1;33m)\u001b[0m\u001b[1;33m)\u001b[0m\u001b[1;33m\u001b[0m\u001b[1;33m\u001b[0m\u001b[0m\n\u001b[0m\u001b[0;32m    100\u001b[0m \u001b[1;33m\u001b[0m\u001b[0m\n\u001b[0;32m    101\u001b[0m \u001b[1;33m\u001b[0m\u001b[0m\n",
      "\u001b[1;32mD:\\WPy64-3760\\python-3.7.6.amd64\\lib\\site-packages\\torch\\nn\\modules\\module.py\u001b[0m in \u001b[0;36m_call_impl\u001b[1;34m(self, *input, **kwargs)\u001b[0m\n\u001b[0;32m    720\u001b[0m             \u001b[0mresult\u001b[0m \u001b[1;33m=\u001b[0m \u001b[0mself\u001b[0m\u001b[1;33m.\u001b[0m\u001b[0m_slow_forward\u001b[0m\u001b[1;33m(\u001b[0m\u001b[1;33m*\u001b[0m\u001b[0minput\u001b[0m\u001b[1;33m,\u001b[0m \u001b[1;33m**\u001b[0m\u001b[0mkwargs\u001b[0m\u001b[1;33m)\u001b[0m\u001b[1;33m\u001b[0m\u001b[1;33m\u001b[0m\u001b[0m\n\u001b[0;32m    721\u001b[0m         \u001b[1;32melse\u001b[0m\u001b[1;33m:\u001b[0m\u001b[1;33m\u001b[0m\u001b[1;33m\u001b[0m\u001b[0m\n\u001b[1;32m--> 722\u001b[1;33m             \u001b[0mresult\u001b[0m \u001b[1;33m=\u001b[0m \u001b[0mself\u001b[0m\u001b[1;33m.\u001b[0m\u001b[0mforward\u001b[0m\u001b[1;33m(\u001b[0m\u001b[1;33m*\u001b[0m\u001b[0minput\u001b[0m\u001b[1;33m,\u001b[0m \u001b[1;33m**\u001b[0m\u001b[0mkwargs\u001b[0m\u001b[1;33m)\u001b[0m\u001b[1;33m\u001b[0m\u001b[1;33m\u001b[0m\u001b[0m\n\u001b[0m\u001b[0;32m    723\u001b[0m         for hook in itertools.chain(\n\u001b[0;32m    724\u001b[0m                 \u001b[0m_global_forward_hooks\u001b[0m\u001b[1;33m.\u001b[0m\u001b[0mvalues\u001b[0m\u001b[1;33m(\u001b[0m\u001b[1;33m)\u001b[0m\u001b[1;33m,\u001b[0m\u001b[1;33m\u001b[0m\u001b[1;33m\u001b[0m\u001b[0m\n",
      "\u001b[1;32mD:\\Jupyter_Data\\tile_tianchi\\yolov5\\models\\common.py\u001b[0m in \u001b[0;36mforward\u001b[1;34m(self, x)\u001b[0m\n\u001b[0;32m     33\u001b[0m \u001b[1;33m\u001b[0m\u001b[0m\n\u001b[0;32m     34\u001b[0m     \u001b[1;32mdef\u001b[0m \u001b[0mforward\u001b[0m\u001b[1;33m(\u001b[0m\u001b[0mself\u001b[0m\u001b[1;33m,\u001b[0m \u001b[0mx\u001b[0m\u001b[1;33m)\u001b[0m\u001b[1;33m:\u001b[0m\u001b[1;33m\u001b[0m\u001b[1;33m\u001b[0m\u001b[0m\n\u001b[1;32m---> 35\u001b[1;33m         \u001b[1;32mreturn\u001b[0m \u001b[0mself\u001b[0m\u001b[1;33m.\u001b[0m\u001b[0mact\u001b[0m\u001b[1;33m(\u001b[0m\u001b[0mself\u001b[0m\u001b[1;33m.\u001b[0m\u001b[0mbn\u001b[0m\u001b[1;33m(\u001b[0m\u001b[0mself\u001b[0m\u001b[1;33m.\u001b[0m\u001b[0mconv\u001b[0m\u001b[1;33m(\u001b[0m\u001b[0mx\u001b[0m\u001b[1;33m)\u001b[0m\u001b[1;33m)\u001b[0m\u001b[1;33m)\u001b[0m\u001b[1;33m\u001b[0m\u001b[1;33m\u001b[0m\u001b[0m\n\u001b[0m\u001b[0;32m     36\u001b[0m \u001b[1;33m\u001b[0m\u001b[0m\n\u001b[0;32m     37\u001b[0m     \u001b[1;32mdef\u001b[0m \u001b[0mfuseforward\u001b[0m\u001b[1;33m(\u001b[0m\u001b[0mself\u001b[0m\u001b[1;33m,\u001b[0m \u001b[0mx\u001b[0m\u001b[1;33m)\u001b[0m\u001b[1;33m:\u001b[0m\u001b[1;33m\u001b[0m\u001b[1;33m\u001b[0m\u001b[0m\n",
      "\u001b[1;32mD:\\WPy64-3760\\python-3.7.6.amd64\\lib\\site-packages\\torch\\nn\\modules\\module.py\u001b[0m in \u001b[0;36m_call_impl\u001b[1;34m(self, *input, **kwargs)\u001b[0m\n\u001b[0;32m    720\u001b[0m             \u001b[0mresult\u001b[0m \u001b[1;33m=\u001b[0m \u001b[0mself\u001b[0m\u001b[1;33m.\u001b[0m\u001b[0m_slow_forward\u001b[0m\u001b[1;33m(\u001b[0m\u001b[1;33m*\u001b[0m\u001b[0minput\u001b[0m\u001b[1;33m,\u001b[0m \u001b[1;33m**\u001b[0m\u001b[0mkwargs\u001b[0m\u001b[1;33m)\u001b[0m\u001b[1;33m\u001b[0m\u001b[1;33m\u001b[0m\u001b[0m\n\u001b[0;32m    721\u001b[0m         \u001b[1;32melse\u001b[0m\u001b[1;33m:\u001b[0m\u001b[1;33m\u001b[0m\u001b[1;33m\u001b[0m\u001b[0m\n\u001b[1;32m--> 722\u001b[1;33m             \u001b[0mresult\u001b[0m \u001b[1;33m=\u001b[0m \u001b[0mself\u001b[0m\u001b[1;33m.\u001b[0m\u001b[0mforward\u001b[0m\u001b[1;33m(\u001b[0m\u001b[1;33m*\u001b[0m\u001b[0minput\u001b[0m\u001b[1;33m,\u001b[0m \u001b[1;33m**\u001b[0m\u001b[0mkwargs\u001b[0m\u001b[1;33m)\u001b[0m\u001b[1;33m\u001b[0m\u001b[1;33m\u001b[0m\u001b[0m\n\u001b[0m\u001b[0;32m    723\u001b[0m         for hook in itertools.chain(\n\u001b[0;32m    724\u001b[0m                 \u001b[0m_global_forward_hooks\u001b[0m\u001b[1;33m.\u001b[0m\u001b[0mvalues\u001b[0m\u001b[1;33m(\u001b[0m\u001b[1;33m)\u001b[0m\u001b[1;33m,\u001b[0m\u001b[1;33m\u001b[0m\u001b[1;33m\u001b[0m\u001b[0m\n",
      "\u001b[1;32mD:\\WPy64-3760\\python-3.7.6.amd64\\lib\\site-packages\\torch\\nn\\modules\\conv.py\u001b[0m in \u001b[0;36mforward\u001b[1;34m(self, input)\u001b[0m\n\u001b[0;32m    417\u001b[0m \u001b[1;33m\u001b[0m\u001b[0m\n\u001b[0;32m    418\u001b[0m     \u001b[1;32mdef\u001b[0m \u001b[0mforward\u001b[0m\u001b[1;33m(\u001b[0m\u001b[0mself\u001b[0m\u001b[1;33m,\u001b[0m \u001b[0minput\u001b[0m\u001b[1;33m:\u001b[0m \u001b[0mTensor\u001b[0m\u001b[1;33m)\u001b[0m \u001b[1;33m->\u001b[0m \u001b[0mTensor\u001b[0m\u001b[1;33m:\u001b[0m\u001b[1;33m\u001b[0m\u001b[1;33m\u001b[0m\u001b[0m\n\u001b[1;32m--> 419\u001b[1;33m         \u001b[1;32mreturn\u001b[0m \u001b[0mself\u001b[0m\u001b[1;33m.\u001b[0m\u001b[0m_conv_forward\u001b[0m\u001b[1;33m(\u001b[0m\u001b[0minput\u001b[0m\u001b[1;33m,\u001b[0m \u001b[0mself\u001b[0m\u001b[1;33m.\u001b[0m\u001b[0mweight\u001b[0m\u001b[1;33m)\u001b[0m\u001b[1;33m\u001b[0m\u001b[1;33m\u001b[0m\u001b[0m\n\u001b[0m\u001b[0;32m    420\u001b[0m \u001b[1;33m\u001b[0m\u001b[0m\n\u001b[0;32m    421\u001b[0m \u001b[1;32mclass\u001b[0m \u001b[0mConv3d\u001b[0m\u001b[1;33m(\u001b[0m\u001b[0m_ConvNd\u001b[0m\u001b[1;33m)\u001b[0m\u001b[1;33m:\u001b[0m\u001b[1;33m\u001b[0m\u001b[1;33m\u001b[0m\u001b[0m\n",
      "\u001b[1;32mD:\\WPy64-3760\\python-3.7.6.amd64\\lib\\site-packages\\torch\\nn\\modules\\conv.py\u001b[0m in \u001b[0;36m_conv_forward\u001b[1;34m(self, input, weight)\u001b[0m\n\u001b[0;32m    414\u001b[0m                             _pair(0), self.dilation, self.groups)\n\u001b[0;32m    415\u001b[0m         return F.conv2d(input, weight, self.bias, self.stride,\n\u001b[1;32m--> 416\u001b[1;33m                         self.padding, self.dilation, self.groups)\n\u001b[0m\u001b[0;32m    417\u001b[0m \u001b[1;33m\u001b[0m\u001b[0m\n\u001b[0;32m    418\u001b[0m     \u001b[1;32mdef\u001b[0m \u001b[0mforward\u001b[0m\u001b[1;33m(\u001b[0m\u001b[0mself\u001b[0m\u001b[1;33m,\u001b[0m \u001b[0minput\u001b[0m\u001b[1;33m:\u001b[0m \u001b[0mTensor\u001b[0m\u001b[1;33m)\u001b[0m \u001b[1;33m->\u001b[0m \u001b[0mTensor\u001b[0m\u001b[1;33m:\u001b[0m\u001b[1;33m\u001b[0m\u001b[1;33m\u001b[0m\u001b[0m\n",
      "\u001b[1;31mRuntimeError\u001b[0m: CUDA out of memory. Tried to allocate 1.14 GiB (GPU 0; 6.00 GiB total capacity; 115.37 MiB already allocated; 3.83 GiB free; 384.00 MiB reserved in total by PyTorch)"
     ]
    }
   ],
   "source": [
    "%run train.py --img 320 --batch 5 --epochs 60 --data ./data/train_imgs_sliced_320_val.yaml --cfg ./models/yolov5s_se.yaml --weights ''"
   ]
  },
  {
   "cell_type": "code",
   "execution_count": 5,
   "metadata": {},
   "outputs": [],
   "source": [
    "from utils.plots import plot_results \n",
    "plot_results(save_dir='./runs/train/exp21') "
   ]
  }
 ],
 "metadata": {
  "kernelspec": {
   "display_name": "Python 3",
   "language": "python",
   "name": "python3"
  },
  "language_info": {
   "codemirror_mode": {
    "name": "ipython",
    "version": 3
   },
   "file_extension": ".py",
   "mimetype": "text/x-python",
   "name": "python",
   "nbconvert_exporter": "python",
   "pygments_lexer": "ipython3",
   "version": "3.7.6"
  }
 },
 "nbformat": 4,
 "nbformat_minor": 4
}