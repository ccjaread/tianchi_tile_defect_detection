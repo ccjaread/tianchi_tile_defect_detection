{
 "cells": [
  {
   "cell_type": "code",
   "execution_count": 1,
   "metadata": {},
   "outputs": [],
   "source": [
    "import cv2 \n",
    "import numpy as np\n",
    "import tqdm"
   ]
  },
  {
   "cell_type": "code",
   "execution_count": 2,
   "metadata": {},
   "outputs": [],
   "source": [
    "import os\n",
    "import glob"
   ]
  },
  {
   "cell_type": "code",
   "execution_count": 3,
   "metadata": {},
   "outputs": [],
   "source": [
    "files=glob.glob('./tcdata/tile_round1_train_20201231/train_imgs/*.jpg')"
   ]
  },
  {
   "cell_type": "markdown",
   "metadata": {},
   "source": [
    "### for train"
   ]
  },
  {
   "cell_type": "code",
   "execution_count": 7,
   "metadata": {},
   "outputs": [],
   "source": [
    "def get_sliced_img_and_init_anno(img_file_path):\n",
    "    #parameters\n",
    "    pic_save_path='./tcdata/train_imgs_sliced_all_320/images/'\n",
    "    anno_save_path='./tcdata/train_imgs_sliced_all_320/labels/'\n",
    "\n",
    "    target_size=320\n",
    "    \n",
    "    try:\n",
    "        im = cv2.imread(img_file_path)\n",
    "    except:\n",
    "        return\n",
    "    fname=img_file_path.split('\\\\')[1].split('.j')[0]\n",
    "\n",
    "    #hight_y(hy),width_x(wx)\n",
    "    hy,wx,_=im.shape\n",
    "    gap_y=hy%target_size//2\n",
    "    gap_x=wx%target_size//2\n",
    "    \n",
    "    num_wx_parts=wx//target_size\n",
    "    num_hy_parts=hy//target_size\n",
    "    \n",
    "    xs=[x for x in range(gap_x,wx,target_size)][:-1]\n",
    "    ys=[y for y in range(gap_y,hy,target_size)][:-1]\n",
    "    \n",
    "    for new_x0 in xs:\n",
    "        for new_y0 in ys:\n",
    "            #new boundary\n",
    "            new_x1=new_x0+target_size\n",
    "            new_y1=new_y0+target_size\n",
    "            new_img=im[new_y0:new_y1,new_x0:new_x1,:]\n",
    "            \n",
    "#             if hy>=new_y1 and wx>=new_x1:\n",
    "#                 new_img=im[new_y0:new_y1,new_x0:new_x1,:]\n",
    "#             else:\n",
    "#                 new_img=im[new_y0:hy,new_x0:wx,:]\n",
    "#                 new_img=np.pad(new_img, ((0,new_y1-hy),(0,new_x1-wx),(0,0)), 'constant', constant_values=0)\n",
    "            \n",
    "            pic_fname=fname+'_'+str(wx)+'_'+str(hy)+'_'+str(new_x0)+'_'+str(new_y0)+'.jpg'\n",
    "            cv2.imwrite(pic_save_path+pic_fname, new_img,[int(cv2.IMWRITE_JPEG_QUALITY), 100])\n",
    "            \n",
    "            anno_fname=fname+'_'+str(wx)+'_'+str(hy)+'_'+str(new_x0)+'_'+str(new_y0)+'.txt'\n",
    "            open(anno_save_path+anno_fname, \"w\")\n",
    "#             with open(anno_save_path+anno_fname,'w') as f:\n",
    "#                 f.write(out_string)\n",
    "    "
   ]
  },
  {
   "cell_type": "code",
   "execution_count": 9,
   "metadata": {},
   "outputs": [],
   "source": [
    "for file_path in files:\n",
    "    get_sliced_img_and_init_anno(file_path)"
   ]
  },
  {
   "cell_type": "code",
   "execution_count": 15,
   "metadata": {},
   "outputs": [
    {
     "data": {
      "text/plain": [
       "'./tile_round1_train_20201231/train_imgs\\\\254_99_t20201130153406261_CAM1.jpg'"
      ]
     },
     "execution_count": 15,
     "metadata": {},
     "output_type": "execute_result"
    }
   ],
   "source": [
    "file_path"
   ]
  },
  {
   "cell_type": "code",
   "execution_count": 16,
   "metadata": {},
   "outputs": [
    {
     "data": {
      "text/plain": [
       "'./tile_round1_train_20201231/train_imgs\\\\254_99_t20201130153406261_CAM1.jpg'"
      ]
     },
     "execution_count": 16,
     "metadata": {},
     "output_type": "execute_result"
    }
   ],
   "source": [
    "files[-1]"
   ]
  },
  {
   "cell_type": "markdown",
   "metadata": {},
   "source": [
    "### for train val"
   ]
  },
  {
   "cell_type": "code",
   "execution_count": 3,
   "metadata": {},
   "outputs": [],
   "source": [
    "import json\n",
    "with open('./tcdata/tile_round1_train_20201231/train_annos.json', 'r') as fp:\n",
    "     results=json.load(fp)"
   ]
  },
  {
   "cell_type": "code",
   "execution_count": 5,
   "metadata": {},
   "outputs": [],
   "source": [
    "def get_sliced_yolo_box(dict_data):\n",
    "    #parameters\n",
    "    pic_save_path='./tcdata/train_imgs_sliced_all_640_val/images/'\n",
    "    anno_save_path='./tcdata/train_imgs_sliced_all_640_val/labels/'\n",
    "    target_size=320\n",
    "    expand_ratio=2 #2.24\n",
    "    \n",
    "    im = cv2.imread('./tcdata/tile_round1_train_20201231/train_imgs/'+dict_data['name'])\n",
    "    fname=dict_data['name'].split('.j')[0]\n",
    "\n",
    "    #hight_y(hy),width_x(wx)\n",
    "    hy,wx,_=im.shape\n",
    "    gap_y=hy%target_size//2\n",
    "    gap_x=wx%target_size//2\n",
    "\n",
    "    tag_xy=dict_data['bbox']\n",
    "\n",
    "    new_x0=((round(tag_xy[0])-gap_x)//target_size)*target_size+gap_x\n",
    "    new_y0=((round(tag_xy[1])-gap_y)//target_size)*target_size+gap_y\n",
    "\n",
    "    #new img size\n",
    "    w=round(target_size*expand_ratio)\n",
    "    h=round(target_size*expand_ratio)\n",
    "    \n",
    "    #new boundary\n",
    "    new_x1=new_x0+w\n",
    "    new_y1=new_y0+h\n",
    "\n",
    "\n",
    "    out_x=(np.mean([tag_xy[0],min(tag_xy[2],new_x1)])-new_x0)/w\n",
    "    out_y=(np.mean([tag_xy[1],min(tag_xy[3],new_y1)])-new_y0)/h\n",
    "    out_w=(min(tag_xy[2],new_x1)-tag_xy[0])/w\n",
    "    out_w=min(1,out_w)\n",
    "    out_h=(min(tag_xy[3],new_y1)-tag_xy[1])/h\n",
    "    out_h=min(1,out_h)\n",
    "    \n",
    "    out_string=\"{} {:.6f} {:.6f} {:.6f} {:.6f}\\n\".format(dict_data['category'],out_x,out_y,out_w,out_h)\n",
    "    \n",
    "    \n",
    "    new_img=im[new_y0:new_y1,new_x0:new_x1,:]\n",
    "    \n",
    "#     if hy>=new_y1 and wx>=new_x1:\n",
    "#         new_img=im[new_y0:new_y1,new_x0:new_x1,:]\n",
    "#     else:\n",
    "#         new_img=im[new_y0:hy,new_x0:wx,:]\n",
    "#         new_img=np.pad(new_img, ((0,new_y1-hy),(0,new_x1-wx),(0,0)), 'constant', constant_values=0)\n",
    "\n",
    "    pic_fname=fname+'_'+str(wx)+'_'+str(hy)+'_'+str(new_x0)+'_'+str(new_y0)+'.jpg'\n",
    "    if os.path.exists(pic_fname):\n",
    "        pass\n",
    "    else:\n",
    "        cv2.imwrite(pic_save_path+pic_fname, new_img,[int(cv2.IMWRITE_JPEG_QUALITY), 100])\n",
    "\n",
    "    anno_fname=fname+'_'+str(wx)+'_'+str(hy)+'_'+str(new_x0)+'_'+str(new_y0)+'.txt'\n",
    "    with open(anno_save_path+anno_fname,'a+') as f:\n",
    "        f.write(out_string)"
   ]
  },
  {
   "cell_type": "code",
   "execution_count": null,
   "metadata": {},
   "outputs": [],
   "source": [
    "def get_sliced_yolo_box_nogap(dict_data):\n",
    "    #parameters\n",
    "    pic_save_path='./tcdata/train_imgs_sliced_all_1280_val/images/'\n",
    "    anno_save_path='./tcdata/train_imgs_sliced_all_1280_val/labels/'\n",
    "    \n",
    "    if not os.path.exists(pic_save_path): \n",
    "        os.makedirs(pic_save_path)\n",
    "        \n",
    "    if not os.path.exists(anno_save_path): \n",
    "        os.makedirs(anno_save_path)\n",
    "    \n",
    "    target_size=1280 #100,180,260\n",
    "#     expand_ratio=320/target_size #2.24\n",
    "    if dict_data['category'] in [3,4,5]:\n",
    "        wh_resize_ratio=1.2\n",
    "    else:\n",
    "        wh_resize_ratio=1.05\n",
    "    \n",
    "    im = cv2.imread('./tcdata/tile_round1_train_20201231/train_imgs/'+dict_data['name'])\n",
    "    fname=dict_data['name'].split('.j')[0]\n",
    "\n",
    "    #hight_y(hy),width_x(wx)\n",
    "    hy,wx,_=im.shape\n",
    "\n",
    "    tag_xy=dict_data['bbox']\n",
    "\n",
    "    new_x0=(round(tag_xy[0])//target_size)*target_size\n",
    "    new_y0=(round(tag_xy[1])//target_size)*target_size\n",
    "\n",
    "    #new img size\n",
    "#     w=round(target_size*expand_ratio)\n",
    "#     h=round(target_size*expand_ratio)\n",
    "    w,h=[1280,1280]\n",
    "    \n",
    "    #new boundary\n",
    "    new_x1=new_x0+w\n",
    "    new_y1=new_y0+h\n",
    "\n",
    "\n",
    "    out_x=(np.mean([tag_xy[0],min(tag_xy[2],new_x1)])-new_x0)/w\n",
    "    out_y=(np.mean([tag_xy[1],min(tag_xy[3],new_y1)])-new_y0)/h\n",
    "    out_w=(min(tag_xy[2],new_x1)-tag_xy[0])/w\n",
    "    out_w=min(1,out_w*wh_resize_ratio)\n",
    "    out_h=(min(tag_xy[3],new_y1)-tag_xy[1])/h\n",
    "    out_h=min(1,out_h*wh_resize_ratio)\n",
    "    \n",
    "    out_string=\"{} {:.6f} {:.6f} {:.6f} {:.6f}\\n\".format(dict_data['category'],out_x,out_y,out_w,out_h)\n",
    "    \n",
    "    \n",
    "    new_img=im[new_y0:new_y1,new_x0:new_x1,:]\n",
    "    if hy>=new_y1 and wx>=new_x1:\n",
    "        new_img=im[new_y0:new_y1,new_x0:new_x1,:]\n",
    "    elif hy>=new_y1 and wx<new_x1:\n",
    "        new_img=im[new_y0:new_y1,new_x0:wx,:]\n",
    "        new_img=np.pad(new_img, ((0,0),(0,new_x1-wx),(0,0)), 'constant', constant_values=0)\n",
    "    elif hy<new_y1 and wx>=new_x1:\n",
    "        new_img=im[new_y0:hy,new_x0:new_x1,:]\n",
    "        new_img=np.pad(new_img, ((0,new_y1-hy),(0,0),(0,0)), 'constant', constant_values=0)\n",
    "    else:\n",
    "        new_img=im[new_y0:hy,new_x0:wx,:]\n",
    "        new_img=np.pad(new_img, ((0,new_y1-hy),(0,new_x1-wx),(0,0)), 'constant', constant_values=0)\n",
    "#     if hy>=new_y1 and wx>=new_x1:\n",
    "#         new_img=im[new_y0:new_y1,new_x0:new_x1,:]\n",
    "#     else:\n",
    "#         new_img=im[new_y0:hy,new_x0:wx,:]\n",
    "#         new_img=np.pad(new_img, ((0,new_y1-hy),(0,new_x1-wx),(0,0)), 'constant', constant_values=0)\n",
    "\n",
    "    pic_fname=fname+'_'+str(wx)+'_'+str(hy)+'_'+str(new_x0)+'_'+str(new_y0)+'.jpg'\n",
    "    if os.path.exists(pic_fname):\n",
    "        pass\n",
    "    else:\n",
    "        cv2.imwrite(pic_save_path+pic_fname, new_img,[int(cv2.IMWRITE_JPEG_QUALITY), 100])\n",
    "\n",
    "    anno_fname=fname+'_'+str(wx)+'_'+str(hy)+'_'+str(new_x0)+'_'+str(new_y0)+'.txt'\n",
    "    with open(anno_save_path+anno_fname,'a+') as f:\n",
    "        f.write(out_string)"
   ]
  },
  {
   "cell_type": "code",
   "execution_count": 6,
   "metadata": {},
   "outputs": [
    {
     "name": "stderr",
     "output_type": "stream",
     "text": [
      "100%|██████████████████████████████████████████████████████████████████████████| 15230/15230 [1:27:43<00:00,  2.89it/s]\n"
     ]
    }
   ],
   "source": [
    "for dict_data in tqdm.tqdm(results):\n",
    "    get_sliced_yolo_box(dict_data)"
   ]
  },
  {
   "cell_type": "code",
   "execution_count": 1,
   "metadata": {},
   "outputs": [
    {
     "name": "stdout",
     "output_type": "stream",
     "text": [
      "start\n",
      "15230\n",
      "all done\n"
     ]
    }
   ],
   "source": [
    "#### try multiprocessing\n",
    "%run 04_multiproc_try_cut_target_pic.py"
   ]
  },
  {
   "cell_type": "code",
   "execution_count": null,
   "metadata": {},
   "outputs": [],
   "source": []
  },
  {
   "cell_type": "code",
   "execution_count": 5,
   "metadata": {},
   "outputs": [
    {
     "data": {
      "text/plain": [
       "int"
      ]
     },
     "execution_count": 5,
     "metadata": {},
     "output_type": "execute_result"
    }
   ],
   "source": [
    "type(results[0]['category'])"
   ]
  },
  {
   "cell_type": "markdown",
   "metadata": {},
   "source": [
    "### for predict"
   ]
  },
  {
   "cell_type": "code",
   "execution_count": null,
   "metadata": {},
   "outputs": [],
   "source": []
  },
  {
   "cell_type": "code",
   "execution_count": 7,
   "metadata": {},
   "outputs": [],
   "source": [
    "files=glob.glob('./tile_round1_testA_20201231/testA_imgs/*.jpg')"
   ]
  },
  {
   "cell_type": "code",
   "execution_count": 3,
   "metadata": {},
   "outputs": [],
   "source": [
    "files=glob.glob('./tile_round1_testB_20210128/testB_imgs/*.jpg')"
   ]
  },
  {
   "cell_type": "code",
   "execution_count": 4,
   "metadata": {},
   "outputs": [
    {
     "data": {
      "text/plain": [
       "['./tile_round1_testB_20210128/testB_imgs\\\\258_142_t20201202094108644_CAM3.jpg',\n",
       " './tile_round1_testB_20210128/testB_imgs\\\\258_142_t20201202094109151_CAM1.jpg',\n",
       " './tile_round1_testB_20210128/testB_imgs\\\\258_142_t20201202094109304_CAM2.jpg',\n",
       " './tile_round1_testB_20210128/testB_imgs\\\\258_143_t20201202094130288_CAM3.jpg',\n",
       " './tile_round1_testB_20210128/testB_imgs\\\\258_143_t20201202094130794_CAM1.jpg',\n",
       " './tile_round1_testB_20210128/testB_imgs\\\\258_143_t20201202094130955_CAM2.jpg',\n",
       " './tile_round1_testB_20210128/testB_imgs\\\\258_144_t20201202094151605_CAM1.jpg',\n",
       " './tile_round1_testB_20210128/testB_imgs\\\\258_144_t20201202094151757_CAM2.jpg',\n",
       " './tile_round1_testB_20210128/testB_imgs\\\\258_144_t2020120209415198_CAM3.jpg',\n",
       " './tile_round1_testB_20210128/testB_imgs\\\\258_145_t20201202094210920_CAM3.jpg']"
      ]
     },
     "execution_count": 4,
     "metadata": {},
     "output_type": "execute_result"
    }
   ],
   "source": [
    "files[:10]"
   ]
  },
  {
   "cell_type": "code",
   "execution_count": 5,
   "metadata": {},
   "outputs": [
    {
     "data": {
      "text/plain": [
       "1855"
      ]
     },
     "execution_count": 5,
     "metadata": {},
     "output_type": "execute_result"
    }
   ],
   "source": [
    "len(files)"
   ]
  },
  {
   "cell_type": "code",
   "execution_count": 6,
   "metadata": {},
   "outputs": [
    {
     "data": {
      "text/plain": [
       "'258_142_t20201202094108644_CAM3'"
      ]
     },
     "execution_count": 6,
     "metadata": {},
     "output_type": "execute_result"
    }
   ],
   "source": [
    "files[0].split('\\\\')[1].split('.j')[0]"
   ]
  },
  {
   "cell_type": "code",
   "execution_count": 7,
   "metadata": {},
   "outputs": [],
   "source": [
    "def get_sliced_img(img_file_path):\n",
    "    #parameters\n",
    "    pic_save_path='./round1_testA_sliced_all_640/'\n",
    "    target_size=640\n",
    "    \n",
    "    im = cv2.imread(img_file_path)\n",
    "    fname=img_file_path.split('\\\\')[1].split('.j')[0]\n",
    "\n",
    "    #hight_y(hy),width_x(wx)\n",
    "    hy,wx,_=im.shape\n",
    "    gap_y=hy%target_size//2\n",
    "    gap_x=wx%target_size//2\n",
    "    \n",
    "    num_wx_parts=wx//target_size\n",
    "    num_hy_parts=hy//target_size\n",
    "    \n",
    "    xs=[x for x in range(gap_x,wx,target_size)][:-1]\n",
    "    ys=[y for y in range(gap_y,hy,target_size)][:-1]\n",
    "    \n",
    "    for new_x0 in xs:\n",
    "        for new_y0 in ys:\n",
    "            #new boundary\n",
    "            new_x1=new_x0+target_size\n",
    "            new_y1=new_y0+target_size\n",
    "            new_img=im[new_y0:new_y1,new_x0:new_x1,:]\n",
    "\n",
    "#             if hy>=new_y1 and wx>=new_x1:\n",
    "#                 new_img=im[new_y0:new_y1,new_x0:new_x1,:]\n",
    "#             elif hy>=new_y1 and wx<new_x1:\n",
    "#                 new_img=im[new_y0:new_y1,new_x0:wx,:]\n",
    "#                 new_img=np.pad(new_img, ((0,0),(0,new_x1-wx),(0,0)), 'constant', constant_values=0)\n",
    "#             elif hy<new_y1 and wx>=new_x1:\n",
    "#                 new_img=im[new_y0:hy,new_x0:new_x1,:]\n",
    "#                 new_img=np.pad(new_img, ((0,new_y1-hy),(0,0),(0,0)), 'constant', constant_values=0)\n",
    "#             else:\n",
    "#                 new_img=im[new_y0:hy,new_x0:wx,:]\n",
    "#                 new_img=np.pad(new_img, ((0,new_y1-hy),(0,new_x1-wx),(0,0)), 'constant', constant_values=0)\n",
    "                \n",
    "            pic_fname=fname+'_'+str(wx)+'_'+str(hy)+'_'+str(new_x0)+'_'+str(new_y0)+'.jpg'\n",
    "            cv2.imwrite(pic_save_path+pic_fname, new_img,[int(cv2.IMWRITE_JPEG_QUALITY), 100])\n",
    "    "
   ]
  },
  {
   "cell_type": "code",
   "execution_count": 7,
   "metadata": {},
   "outputs": [],
   "source": [
    "def get_sliced_img_nogap(img_file_path):\n",
    "    #parameters\n",
    "    target_size=1280\n",
    "    pic_save_path='./round1_testB_sliced_all_{}/'.format(target_size)\n",
    "        \n",
    "    if not os.path.exists(pic_save_path): \n",
    "        os.makedirs(pic_save_path)\n",
    "        \n",
    "#     if not os.path.exists(anno_save_path): \n",
    "#         os.makedirs(anno_save_path)\n",
    "    \n",
    "    \n",
    "    im = cv2.imread(img_file_path)\n",
    "    fname=img_file_path.split('\\\\')[1].split('.j')[0]\n",
    "\n",
    "    #hight_y(hy),width_x(wx)\n",
    "    hy,wx,_=im.shape\n",
    "    \n",
    "    num_wx_parts=wx//target_size\n",
    "    num_hy_parts=hy//target_size\n",
    "    \n",
    "    xs=[x for x in range(0,wx,target_size)]\n",
    "    ys=[y for y in range(0,hy,target_size)]\n",
    "    \n",
    "    for new_x0 in xs:\n",
    "        for new_y0 in ys:\n",
    "            #new boundary\n",
    "            new_x1=new_x0+target_size\n",
    "            new_y1=new_y0+target_size\n",
    "#             new_img=im[new_y0:new_y1,new_x0:new_x1,:]\n",
    "            \n",
    "            if hy>=new_y1 and wx>=new_x1:\n",
    "                new_img=im[new_y0:new_y1,new_x0:new_x1,:]\n",
    "            elif hy>=new_y1 and wx<new_x1:\n",
    "                new_img=im[new_y0:new_y1,new_x0:wx,:]\n",
    "                new_img=np.pad(new_img, ((0,0),(0,new_x1-wx),(0,0)), 'constant', constant_values=0)\n",
    "            elif hy<new_y1 and wx>=new_x1:\n",
    "                new_img=im[new_y0:hy,new_x0:new_x1,:]\n",
    "                new_img=np.pad(new_img, ((0,new_y1-hy),(0,0),(0,0)), 'constant', constant_values=0)\n",
    "            else:\n",
    "                new_img=im[new_y0:hy,new_x0:wx,:]\n",
    "                new_img=np.pad(new_img, ((0,new_y1-hy),(0,new_x1-wx),(0,0)), 'constant', constant_values=0)\n",
    "            \n",
    "            \n",
    "            pic_fname=fname+'_'+str(wx)+'_'+str(hy)+'_'+str(new_x0)+'_'+str(new_y0)+'.jpg'\n",
    "            cv2.imwrite(pic_save_path+pic_fname, new_img,[int(cv2.IMWRITE_JPEG_QUALITY), 100])\n",
    "    "
   ]
  },
  {
   "cell_type": "code",
   "execution_count": 8,
   "metadata": {},
   "outputs": [
    {
     "name": "stderr",
     "output_type": "stream",
     "text": [
      "100%|██████████████████████████████████████████████████████████████████████████████| 1855/1855 [27:26<00:00,  1.13it/s]\n"
     ]
    }
   ],
   "source": [
    "for file_path in tqdm.tqdm(files):\n",
    "    get_sliced_img_nogap(file_path)"
   ]
  },
  {
   "cell_type": "code",
   "execution_count": 2,
   "metadata": {},
   "outputs": [
    {
     "ename": "NameError",
     "evalue": "name 'file_path' is not defined",
     "output_type": "error",
     "traceback": [
      "\u001b[1;31m---------------------------------------------------------------------------\u001b[0m",
      "\u001b[1;31mNameError\u001b[0m                                 Traceback (most recent call last)",
      "\u001b[1;32m<ipython-input-2-6249cc0b42e5>\u001b[0m in \u001b[0;36m<module>\u001b[1;34m\u001b[0m\n\u001b[1;32m----> 1\u001b[1;33m \u001b[0mfile_path\u001b[0m\u001b[1;33m\u001b[0m\u001b[1;33m\u001b[0m\u001b[0m\n\u001b[0m",
      "\u001b[1;31mNameError\u001b[0m: name 'file_path' is not defined"
     ]
    }
   ],
   "source": [
    "file_path"
   ]
  },
  {
   "cell_type": "code",
   "execution_count": 11,
   "metadata": {},
   "outputs": [
    {
     "data": {
      "text/plain": [
       "'./tile_round1_testA_20201231/testA_imgs\\\\254_96_t20201130153259674_CAM3.jpg'"
      ]
     },
     "execution_count": 11,
     "metadata": {},
     "output_type": "execute_result"
    }
   ],
   "source": [
    "files[-1]"
   ]
  },
  {
   "cell_type": "code",
   "execution_count": null,
   "metadata": {},
   "outputs": [],
   "source": []
  }
 ],
 "metadata": {
  "kernelspec": {
   "display_name": "Python 3",
   "language": "python",
   "name": "python3"
  },
  "language_info": {
   "codemirror_mode": {
    "name": "ipython",
    "version": 3
   },
   "file_extension": ".py",
   "mimetype": "text/x-python",
   "name": "python",
   "nbconvert_exporter": "python",
   "pygments_lexer": "ipython3",
   "version": "3.7.6"
  }
 },
 "nbformat": 4,
 "nbformat_minor": 4
}