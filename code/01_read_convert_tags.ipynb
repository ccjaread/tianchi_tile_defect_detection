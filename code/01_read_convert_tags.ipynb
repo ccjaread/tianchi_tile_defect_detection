{
 "cells": [
  {
   "cell_type": "markdown",
   "metadata": {},
   "source": [
    "### Convert json tag to view in labelimg"
   ]
  },
  {
   "cell_type": "markdown",
   "metadata": {},
   "source": [
    "#### sample code for results\n",
    "```python\n",
    "result=[]\n",
    "result.append({'name': image_name(str),'category': defect_label(int),'bbox':bbox(xyxy,float),'score': score(float)})\n",
    "import json\n",
    "with open('result.json', 'w') as fp:\n",
    "     json.dump(result, fp, indent=4, ensure_ascii=False)\n",
    "```"
   ]
  },
  {
   "cell_type": "markdown",
   "metadata": {},
   "source": [
    "#### id和瑕疵名的对应关系如下：\n",
    "\n",
    "```python\n",
    "{\n",
    "  \"0\": \"背景\",\n",
    "  \"1\": \"边异常\",\n",
    "  \"2\": \"角异常\",\n",
    "  \"3\": \"白色点瑕疵\",\n",
    "  \"4\": \"浅色块瑕疵\",\n",
    "  \"5\": \"深色点块瑕疵\",\n",
    "  \"6\": \"光圈瑕疵\"\n",
    " }\n",
    "```"
   ]
  },
  {
   "cell_type": "code",
   "execution_count": 2,
   "metadata": {},
   "outputs": [],
   "source": [
    "import json\n",
    "with open('./tcdata/tile_round1_train_20201231/train_annos.json', 'r') as fp:\n",
    "     results=json.load(fp)"
   ]
  },
  {
   "cell_type": "code",
   "execution_count": 3,
   "metadata": {},
   "outputs": [],
   "source": [
    "import numpy as np"
   ]
  },
  {
   "cell_type": "code",
   "execution_count": 14,
   "metadata": {},
   "outputs": [
    {
     "data": {
      "text/plain": [
       "2.0"
      ]
     },
     "execution_count": 14,
     "metadata": {},
     "output_type": "execute_result"
    }
   ],
   "source": [
    "np.mean([1,3])"
   ]
  },
  {
   "cell_type": "code",
   "execution_count": 16,
   "metadata": {},
   "outputs": [
    {
     "data": {
      "text/plain": [
       "'235_2_t20201127123021723_CAM2'"
      ]
     },
     "execution_count": 16,
     "metadata": {},
     "output_type": "execute_result"
    }
   ],
   "source": [
    "results[1]['name'].split('.j')[0]"
   ]
  },
  {
   "cell_type": "code",
   "execution_count": 21,
   "metadata": {},
   "outputs": [],
   "source": [
    "def get_yolo_box(dict_data):\n",
    "    fname=dict_data['name'].split('.j')[0]\n",
    "    xy=dict_data['bbox']\n",
    "    w=dict_data['image_width']\n",
    "    h=dict_data['image_height']\n",
    "    out_x=np.mean([xy[0],xy[2]])/w\n",
    "    out_y=np.mean([xy[1],xy[3]])/h\n",
    "    out_w=(xy[2]-xy[0])/w\n",
    "    out_h=(xy[3]-xy[1])/h\n",
    "    out_string=\"{} {:.6f} {:.6f} {:.6f} {:.6f}\\n\".format(dict_data['category'],out_x,out_y,out_w,out_h)\n",
    "    with open('./tcdata/tile_round1_train_20201231/train_imgs/'+fname+'.txt','a+') as f:\n",
    "        f.write(out_string)"
   ]
  },
  {
   "cell_type": "code",
   "execution_count": 25,
   "metadata": {},
   "outputs": [],
   "source": [
    "for dict_data in results:\n",
    "    get_yolo_box(dict_data)"
   ]
  },
  {
   "cell_type": "code",
   "execution_count": null,
   "metadata": {},
   "outputs": [],
   "source": []
  },
  {
   "cell_type": "code",
   "execution_count": 2,
   "metadata": {},
   "outputs": [
    {
     "data": {
      "text/plain": [
       "{'name': '235_2_t20201127123021723_CAM2.jpg',\n",
       " 'image_height': 6000,\n",
       " 'image_width': 8192,\n",
       " 'category': 5,\n",
       " 'bbox': [1876.06, 998.04, 1883.06, 1004.04]}"
      ]
     },
     "execution_count": 2,
     "metadata": {},
     "output_type": "execute_result"
    }
   ],
   "source": [
    "results[1]"
   ]
  },
  {
   "cell_type": "code",
   "execution_count": 4,
   "metadata": {},
   "outputs": [],
   "source": [
    "import pandas as pd"
   ]
  },
  {
   "cell_type": "code",
   "execution_count": 5,
   "metadata": {},
   "outputs": [],
   "source": [
    "results_df=pd.DataFrame(results)"
   ]
  },
  {
   "cell_type": "code",
   "execution_count": 8,
   "metadata": {},
   "outputs": [
    {
     "data": {
      "text/plain": [
       "6000    12563\n",
       "3500     2667\n",
       "Name: image_height, dtype: int64"
      ]
     },
     "execution_count": 8,
     "metadata": {},
     "output_type": "execute_result"
    }
   ],
   "source": [
    "results_df.image_height.value_counts()"
   ]
  },
  {
   "cell_type": "code",
   "execution_count": 10,
   "metadata": {},
   "outputs": [
    {
     "data": {
      "text/plain": [
       "8192    12563\n",
       "4096     2667\n",
       "Name: image_width, dtype: int64"
      ]
     },
     "execution_count": 10,
     "metadata": {},
     "output_type": "execute_result"
    }
   ],
   "source": [
    "results_df.image_width.value_counts()"
   ]
  },
  {
   "cell_type": "code",
   "execution_count": 7,
   "metadata": {},
   "outputs": [
    {
     "data": {
      "text/plain": [
       "<matplotlib.axes._subplots.AxesSubplot at 0x20da8e81748>"
      ]
     },
     "execution_count": 7,
     "metadata": {},
     "output_type": "execute_result"
    },
    {
     "data": {
      "image/png": "[encoded data removed]",
      "text/plain": [
       "<Figure size 432x288 with 1 Axes>"
      ]
     },
     "metadata": {
      "needs_background": "light"
     },
     "output_type": "display_data"
    }
   ],
   "source": [
    "results_df.image_height.hist()"
   ]
  },
  {
   "cell_type": "code",
   "execution_count": 8,
   "metadata": {},
   "outputs": [
    {
     "data": {
      "text/plain": [
       "<matplotlib.axes._subplots.AxesSubplot at 0x20da87ebd08>"
      ]
     },
     "execution_count": 8,
     "metadata": {},
     "output_type": "execute_result"
    },
    {
     "data": {
      "image/png": "[encoded data removed]",
      "text/plain": [
       "<Figure size 432x288 with 1 Axes>"
      ]
     },
     "metadata": {
      "needs_background": "light"
     },
     "output_type": "display_data"
    }
   ],
   "source": [
    "results_df.image_width.hist()"
   ]
  },
  {
   "cell_type": "code",
   "execution_count": 9,
   "metadata": {},
   "outputs": [
    {
     "data": {
      "text/plain": [
       "<matplotlib.axes._subplots.AxesSubplot at 0x20da860a608>"
      ]
     },
     "execution_count": 9,
     "metadata": {},
     "output_type": "execute_result"
    },
    {
     "data": {
      "image/png": "[encoded data removed]",
      "text/plain": [
       "<Figure size 432x288 with 1 Axes>"
      ]
     },
     "metadata": {
      "needs_background": "light"
     },
     "output_type": "display_data"
    }
   ],
   "source": [
    "results_df.category.hist()"
   ]
  },
  {
   "cell_type": "code",
   "execution_count": 6,
   "metadata": {},
   "outputs": [],
   "source": [
    "results_df['defect_w']=results_df.bbox.apply(lambda x:x[2]-x[0])"
   ]
  },
  {
   "cell_type": "code",
   "execution_count": 7,
   "metadata": {},
   "outputs": [],
   "source": [
    "results_df['defect_h']=results_df.bbox.apply(lambda x:x[3]-x[1])"
   ]
  },
  {
   "cell_type": "code",
   "execution_count": 8,
   "metadata": {},
   "outputs": [
    {
     "data": {
      "text/html": [
       "<div>\n",
       "<style scoped>\n",
       "    .dataframe tbody tr th:only-of-type {\n",
       "        vertical-align: middle;\n",
       "    }\n",
       "\n",
       "    .dataframe tbody tr th {\n",
       "        vertical-align: top;\n",
       "    }\n",
       "\n",
       "    .dataframe thead th {\n",
       "        text-align: right;\n",
       "    }\n",
       "</style>\n",
       "<table border=\"1\" class=\"dataframe\">\n",
       "  <thead>\n",
       "    <tr style=\"text-align: right;\">\n",
       "      <th></th>\n",
       "      <th>name</th>\n",
       "      <th>image_height</th>\n",
       "      <th>image_width</th>\n",
       "      <th>category</th>\n",
       "      <th>bbox</th>\n",
       "      <th>defect_w</th>\n",
       "      <th>defect_h</th>\n",
       "    </tr>\n",
       "  </thead>\n",
       "  <tbody>\n",
       "    <tr>\n",
       "      <th>0</th>\n",
       "      <td>223_89_t20201125085855802_CAM3.jpg</td>\n",
       "      <td>3500</td>\n",
       "      <td>4096</td>\n",
       "      <td>4</td>\n",
       "      <td>[1702.79, 2826.53, 1730.79, 2844.53]</td>\n",
       "      <td>28.0</td>\n",
       "      <td>18.0</td>\n",
       "    </tr>\n",
       "    <tr>\n",
       "      <th>1</th>\n",
       "      <td>235_2_t20201127123021723_CAM2.jpg</td>\n",
       "      <td>6000</td>\n",
       "      <td>8192</td>\n",
       "      <td>5</td>\n",
       "      <td>[1876.06, 998.04, 1883.06, 1004.04]</td>\n",
       "      <td>7.0</td>\n",
       "      <td>6.0</td>\n",
       "    </tr>\n",
       "    <tr>\n",
       "      <th>2</th>\n",
       "      <td>235_2_t20201127123021723_CAM2.jpg</td>\n",
       "      <td>6000</td>\n",
       "      <td>8192</td>\n",
       "      <td>5</td>\n",
       "      <td>[1655.06, 1094.04, 1663.06, 1102.04]</td>\n",
       "      <td>8.0</td>\n",
       "      <td>8.0</td>\n",
       "    </tr>\n",
       "    <tr>\n",
       "      <th>3</th>\n",
       "      <td>235_2_t20201127123021723_CAM2.jpg</td>\n",
       "      <td>6000</td>\n",
       "      <td>8192</td>\n",
       "      <td>5</td>\n",
       "      <td>[1909.06, 1379.04, 1920.06, 1388.04]</td>\n",
       "      <td>11.0</td>\n",
       "      <td>9.0</td>\n",
       "    </tr>\n",
       "    <tr>\n",
       "      <th>4</th>\n",
       "      <td>235_2_t20201127123021723_CAM2.jpg</td>\n",
       "      <td>6000</td>\n",
       "      <td>8192</td>\n",
       "      <td>5</td>\n",
       "      <td>[1804.06, 1400.04, 1816.06, 1412.04]</td>\n",
       "      <td>12.0</td>\n",
       "      <td>12.0</td>\n",
       "    </tr>\n",
       "  </tbody>\n",
       "</table>\n",
       "</div>"
      ],
      "text/plain": [
       "                                 name  image_height  image_width  category  \\\n",
       "0  223_89_t20201125085855802_CAM3.jpg          3500         4096         4   \n",
       "1   235_2_t20201127123021723_CAM2.jpg          6000         8192         5   \n",
       "2   235_2_t20201127123021723_CAM2.jpg          6000         8192         5   \n",
       "3   235_2_t20201127123021723_CAM2.jpg          6000         8192         5   \n",
       "4   235_2_t20201127123021723_CAM2.jpg          6000         8192         5   \n",
       "\n",
       "                                   bbox  defect_w  defect_h  \n",
       "0  [1702.79, 2826.53, 1730.79, 2844.53]      28.0      18.0  \n",
       "1   [1876.06, 998.04, 1883.06, 1004.04]       7.0       6.0  \n",
       "2  [1655.06, 1094.04, 1663.06, 1102.04]       8.0       8.0  \n",
       "3  [1909.06, 1379.04, 1920.06, 1388.04]      11.0       9.0  \n",
       "4  [1804.06, 1400.04, 1816.06, 1412.04]      12.0      12.0  "
      ]
     },
     "execution_count": 8,
     "metadata": {},
     "output_type": "execute_result"
    }
   ],
   "source": [
    "results_df.head()"
   ]
  },
  {
   "cell_type": "code",
   "execution_count": 9,
   "metadata": {},
   "outputs": [
    {
     "data": {
      "text/plain": [
       "22.78614445173965"
      ]
     },
     "execution_count": 9,
     "metadata": {},
     "output_type": "execute_result"
    }
   ],
   "source": [
    "results_df.defect_h.mean()"
   ]
  },
  {
   "cell_type": "code",
   "execution_count": 10,
   "metadata": {},
   "outputs": [
    {
     "data": {
      "text/plain": [
       "count    15230.000000\n",
       "mean        22.786144\n",
       "std         40.723015\n",
       "min          3.190000\n",
       "25%         10.000000\n",
       "50%         13.000000\n",
       "75%         18.000000\n",
       "max        891.470000\n",
       "Name: defect_h, dtype: float64"
      ]
     },
     "execution_count": 10,
     "metadata": {},
     "output_type": "execute_result"
    }
   ],
   "source": [
    "results_df.defect_h.describe()"
   ]
  },
  {
   "cell_type": "code",
   "execution_count": null,
   "metadata": {},
   "outputs": [],
   "source": []
  },
  {
   "cell_type": "code",
   "execution_count": 11,
   "metadata": {},
   "outputs": [
    {
     "data": {
      "text/plain": [
       "count    15230.000000\n",
       "mean        24.727670\n",
       "std         60.381061\n",
       "min          2.590000\n",
       "25%         10.000000\n",
       "50%         13.000000\n",
       "75%         20.000000\n",
       "max       4889.090000\n",
       "Name: defect_w, dtype: float64"
      ]
     },
     "execution_count": 11,
     "metadata": {},
     "output_type": "execute_result"
    }
   ],
   "source": [
    "results_df.defect_w.describe()"
   ]
  },
  {
   "cell_type": "code",
   "execution_count": 14,
   "metadata": {},
   "outputs": [
    {
     "data": {
      "text/plain": [
       "<matplotlib.axes._subplots.AxesSubplot at 0x20da8bb8e88>"
      ]
     },
     "execution_count": 14,
     "metadata": {},
     "output_type": "execute_result"
    },
    {
     "data": {
      "image/png": "[encoded data removed]",
      "text/plain": [
       "<Figure size 432x288 with 1 Axes>"
      ]
     },
     "metadata": {
      "needs_background": "light"
     },
     "output_type": "display_data"
    }
   ],
   "source": [
    "results_df.defect_h.hist()"
   ]
  },
  {
   "cell_type": "code",
   "execution_count": 17,
   "metadata": {},
   "outputs": [
    {
     "data": {
      "text/plain": [
       "<matplotlib.axes._subplots.AxesSubplot at 0x20daa1b48c8>"
      ]
     },
     "execution_count": 17,
     "metadata": {},
     "output_type": "execute_result"
    },
    {
     "data": {
      "image/png": "[encoded data removed]",
      "text/plain": [
       "<Figure size 432x288 with 1 Axes>"
      ]
     },
     "metadata": {
      "needs_background": "light"
     },
     "output_type": "display_data"
    }
   ],
   "source": [
    "results_df.defect_w.hist(bins=100)"
   ]
  },
  {
   "cell_type": "code",
   "execution_count": null,
   "metadata": {},
   "outputs": [],
   "source": []
  },
  {
   "cell_type": "code",
   "execution_count": 1,
   "metadata": {},
   "outputs": [],
   "source": [
    "import json\n",
    "with open('./tcdata/results20210113.json', 'r') as fp:\n",
    "     results=json.load(fp)"
   ]
  },
  {
   "cell_type": "code",
   "execution_count": 2,
   "metadata": {},
   "outputs": [],
   "source": [
    "import numpy as np"
   ]
  },
  {
   "cell_type": "code",
   "execution_count": 3,
   "metadata": {},
   "outputs": [
    {
     "data": {
      "text/plain": [
       "'197_104_t20201119094108582_CAM1'"
      ]
     },
     "execution_count": 3,
     "metadata": {},
     "output_type": "execute_result"
    }
   ],
   "source": [
    "results[1]['name'].split('.j')[0]"
   ]
  },
  {
   "cell_type": "code",
   "execution_count": 4,
   "metadata": {},
   "outputs": [],
   "source": [
    "def get_yolo_box(dict_data):\n",
    "    fname=dict_data['name'].split('.j')[0]\n",
    "    xy=dict_data['bbox']\n",
    "    w=dict_data['image_width']\n",
    "    h=dict_data['image_height']\n",
    "    out_x=np.mean([xy[0],xy[2]])/w\n",
    "    out_y=np.mean([xy[1],xy[3]])/h\n",
    "    out_w=(xy[2]-xy[0])/w\n",
    "    out_h=(xy[3]-xy[1])/h\n",
    "    out_string=\"{} {:.6f} {:.6f} {:.6f} {:.6f}\\n\".format(dict_data['category'],out_x,out_y,out_w,out_h)\n",
    "    with open('./tcdata/round1_testA_labels2/'+fname+'.txt','a+') as f:\n",
    "        f.write(out_string)"
   ]
  },
  {
   "cell_type": "code",
   "execution_count": 5,
   "metadata": {},
   "outputs": [],
   "source": [
    "for dict_data in results:\n",
    "    get_yolo_box(dict_data)"
   ]
  },
  {
   "cell_type": "code",
   "execution_count": null,
   "metadata": {},
   "outputs": [],
   "source": []
  }
 ],
 "metadata": {
  "kernelspec": {
   "display_name": "Python 3",
   "language": "python",
   "name": "python3"
  },
  "language_info": {
   "codemirror_mode": {
    "name": "ipython",
    "version": 3
   },
   "file_extension": ".py",
   "mimetype": "text/x-python",
   "name": "python",
   "nbconvert_exporter": "python",
   "pygments_lexer": "ipython3",
   "version": "3.7.6"
  }
 },
 "nbformat": 4,
 "nbformat_minor": 4
}