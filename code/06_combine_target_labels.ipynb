{
 "cells": [
  {
   "cell_type": "code",
   "execution_count": 9,
   "metadata": {},
   "outputs": [],
   "source": [
    "import glob\n",
    "import tqdm\n",
    "import cv2\n",
    "import json\n",
    "import os"
   ]
  },
  {
   "cell_type": "markdown",
   "metadata": {},
   "source": [
    "### common part\n",
    "---"
   ]
  },
  {
   "cell_type": "code",
   "execution_count": null,
   "metadata": {},
   "outputs": [],
   "source": [
    "### for read of raw image width and length\n",
    "# import json\n",
    "# with open('./tile_round1_train_20201231/train_annos.json', 'r') as fp:\n",
    "#      img_info_dic=json.load(fp)\n",
    "\n",
    "# img_info_dic={d['name'].split('.j')[0]:d for d in img_info_dic}"
   ]
  },
  {
   "cell_type": "code",
   "execution_count": 16,
   "metadata": {},
   "outputs": [],
   "source": [
    "# parameters\n",
    "path='../code/yolov5/runs/detect/exp18/labels/'\n",
    "img_path='./tcdata/tile_round1_testA_20201231/testA_imgs/'\n",
    "img_path='./tcdata/tile_round1_testB_20210128/testB_imgs/'\n",
    "\n",
    "output_path='./round1_testB_labels_63/'\n",
    "output_path='./round1_testB_labels_59/'\n",
    "output_path='./round1_testB_labels_62/'\n",
    "\n",
    "if not os.path.exists(output_path): \n",
    "    os.makedirs(output_path)\n",
    "\n",
    "target_size=1280"
   ]
  },
  {
   "cell_type": "code",
   "execution_count": 17,
   "metadata": {},
   "outputs": [],
   "source": [
    "sep_labels=glob.glob(path+'*.txt')"
   ]
  },
  {
   "cell_type": "code",
   "execution_count": 18,
   "metadata": {},
   "outputs": [
    {
     "data": {
      "text/plain": [
       "17517"
      ]
     },
     "execution_count": 18,
     "metadata": {},
     "output_type": "execute_result"
    }
   ],
   "source": [
    "len(sep_labels)"
   ]
  },
  {
   "cell_type": "code",
   "execution_count": 13,
   "metadata": {},
   "outputs": [
    {
     "data": {
      "text/plain": [
       "'./yolov5/runs/detect/exp17/labels\\\\258_142_t20201202094108644_CAM3_4096_3500_0_2560.txt'"
      ]
     },
     "execution_count": 13,
     "metadata": {},
     "output_type": "execute_result"
    }
   ],
   "source": [
    "sep_labels[1]"
   ]
  },
  {
   "cell_type": "code",
   "execution_count": null,
   "metadata": {},
   "outputs": [],
   "source": []
  },
  {
   "cell_type": "code",
   "execution_count": 62,
   "metadata": {},
   "outputs": [],
   "source": [
    "### old version gen yolo anno\n",
    "# for label_path in sep_labels:\n",
    "#     img_name=label_path.split('\\\\')[1].split('.t')[0]\n",
    "#     img_name=img_name.split('_')\n",
    "#     x0,y0=img_name[-2:]\n",
    "#     img_name='_'.join(img_name[:-4])\n",
    "\n",
    "#     with open(label_path,'r') as f:\n",
    "#         lines=f.readlines()\n",
    "\n",
    "#     for line in lines:\n",
    "#         l,x,y,w,h=line.strip().split(' ')\n",
    "#         img_info=img_info_dic[img_name]\n",
    "#         x=(float(x)*target_size+float(x0))/img_info['image_width']\n",
    "#         y=(float(y)*target_size+float(y0))/img_info['image_height']\n",
    "#         w=(float(w)*target_size)/img_info['image_width']\n",
    "#         h=(float(h)*target_size)/img_info['image_height']\n",
    "\n",
    "#         out_string=\"{} {:.6f} {:.6f} {:.6f} {:.6f}\\n\".format(l,x,y,w,h)\n",
    "#         with open(output_path+img_name+'.txt','a+') as f:\n",
    "#             f.write(out_string)        "
   ]
  },
  {
   "cell_type": "markdown",
   "metadata": {},
   "source": [
    "### without mask (finally chosen)\n",
    "---"
   ]
  },
  {
   "cell_type": "code",
   "execution_count": 19,
   "metadata": {},
   "outputs": [
    {
     "name": "stderr",
     "output_type": "stream",
     "text": [
      "100%|██████████████████████████████████████████████████████████████████████████| 17517/17517 [00:02<00:00, 7473.11it/s]\n"
     ]
    }
   ],
   "source": [
    "### gen json without mask\n",
    "results=[]\n",
    "threshold=0.01\n",
    "\n",
    "for label_path in tqdm.tqdm(sep_labels):\n",
    "#     label_path=sep_labels[1]\n",
    "    img_name=label_path.split('\\\\')[1].split('.t')[0]\n",
    "    img_name=img_name.split('_')\n",
    "    x0,y0=img_name[-2:]\n",
    "    img_w=img_name[-4]\n",
    "    img_h=img_name[-3]\n",
    "    img_name='_'.join(img_name[:-4])\n",
    "    \n",
    "    with open(label_path,'r') as f:\n",
    "        lines=f.readlines()\n",
    "\n",
    "    for line in lines:\n",
    "        l,x,y,w,h,score=line.strip().split(' ')\n",
    "        score=float(score)\n",
    "        if score>=threshold:\n",
    "            x=round(float(x)*target_size+float(x0))\n",
    "            y=round(float(y)*target_size+float(y0))\n",
    "            w=round(float(w)*target_size)\n",
    "            h=round(float(h)*target_size)\n",
    "            temp_dict={'name': img_name+'.jpg',\\\n",
    "#                        'image_height': int(img_h),\\\n",
    "#                        'image_width': int(img_w),\\\n",
    "                       'category': int(l),\\\n",
    "                       'bbox': [x-w//2, y-h//2, x+w//2, y+h//2],\\\n",
    "                       'score':score }\n",
    "            results.append(temp_dict)\n",
    "        \n",
    "json_str = json.dumps(results)\n",
    "with open('../prediction_result/result.json','w') as f:\n",
    "    f.write(json_str)"
   ]
  },
  {
   "cell_type": "code",
   "execution_count": 14,
   "metadata": {},
   "outputs": [
    {
     "data": {
      "text/plain": [
       "3432"
      ]
     },
     "execution_count": 14,
     "metadata": {},
     "output_type": "execute_result"
    }
   ],
   "source": [
    "len(results)"
   ]
  },
  {
   "cell_type": "code",
   "execution_count": null,
   "metadata": {},
   "outputs": [],
   "source": []
  },
  {
   "cell_type": "markdown",
   "metadata": {},
   "source": [
    "### with mask\n",
    "---"
   ]
  },
  {
   "cell_type": "code",
   "execution_count": 9,
   "metadata": {},
   "outputs": [
    {
     "name": "stderr",
     "output_type": "stream",
     "text": [
      "100%|██████████████████████████████████████████████████████████████████████████| 23816/23816 [2:48:27<00:00,  2.36it/s]\n"
     ]
    }
   ],
   "source": [
    "### gen json with mask\n",
    "results=[]\n",
    "threshold=0.01\n",
    "\n",
    "def get_mask(img,halfsize=100):\n",
    "    #获取mask\n",
    "    height, width = img.shape[:2]\n",
    "    lower_color=img[:halfsize,:,:].min(axis=1).min(axis=0)\n",
    "    upper_color=img[:halfsize,:,:].max(axis=1).max(axis=0)\n",
    "    # lower_color=img[rows//2-halfsize:rows//2+halfsize,cols//2-halfsize:cols//2+halfsize,:].min(axis=1).min(axis=0)\n",
    "    # upper_color=img[rows//2-halfsize:rows//2+halfsize,cols//2-halfsize:cols//2+halfsize,:].max(axis=1).max(axis=0)\n",
    "    mask = cv2.inRange(img, lower_color, upper_color)\n",
    "    return mask\n",
    "\n",
    "\n",
    "\n",
    "\n",
    "for label_path in tqdm.tqdm(sep_labels):\n",
    "#     label_path=sep_labels[1]\n",
    "    img_name=label_path.split('\\\\')[1].split('.t')[0]\n",
    "    img_name=img_name.split('_')\n",
    "    x0,y0=img_name[-2:]\n",
    "    img_w=img_name[-4]\n",
    "    img_h=img_name[-3]\n",
    "    img_name='_'.join(img_name[:-4])\n",
    "    \n",
    "    img=cv2.imread(img_path+img_name+'.jpg')\n",
    "    mask=get_mask(img)\n",
    "\n",
    "    with open(label_path,'r') as f:\n",
    "        lines=f.readlines()\n",
    "\n",
    "    for line in lines:\n",
    "        l,x,y,w,h,score=line.strip().split(' ')\n",
    "        score=float(score)\n",
    "        if score>=threshold:\n",
    "            x=round(float(x)*target_size+float(x0))\n",
    "            y=round(float(y)*target_size+float(y0))\n",
    "            w=round(float(w)*target_size)\n",
    "            h=round(float(h)*target_size)\n",
    "            if mask[y:y+h,x:x+w].mean(axis=1).min()==0:\n",
    "                temp_dict={'name': img_name+'.jpg',\\\n",
    "#                            'image_height': int(img_h),\\\n",
    "#                            'image_width': int(img_w),\\\n",
    "                           'category': int(l),\\\n",
    "                           'bbox': [x-w//2, y-h//2, x+w//2, y+h//2],\\\n",
    "                           'score':score }\n",
    "                results.append(temp_dict)\n",
    "        \n",
    "json_str = json.dumps(results)\n",
    "with open('./results_w_mask_20210125.json','w') as f:\n",
    "    f.write(json_str)"
   ]
  },
  {
   "cell_type": "code",
   "execution_count": 11,
   "metadata": {},
   "outputs": [
    {
     "data": {
      "text/plain": [
       "1570"
      ]
     },
     "execution_count": 11,
     "metadata": {},
     "output_type": "execute_result"
    }
   ],
   "source": [
    "len(results)"
   ]
  },
  {
   "cell_type": "code",
   "execution_count": null,
   "metadata": {},
   "outputs": [],
   "source": []
  },
  {
   "cell_type": "code",
   "execution_count": null,
   "metadata": {},
   "outputs": [],
   "source": []
  },
  {
   "cell_type": "code",
   "execution_count": 20,
   "metadata": {},
   "outputs": [
    {
     "name": "stderr",
     "output_type": "stream",
     "text": [
      "100%|██████████████████████████████████████████████████████████████████████████| 17517/17517 [00:06<00:00, 2510.31it/s]\n"
     ]
    }
   ],
   "source": [
    "### gen yolo anno\n",
    "for label_path in tqdm.tqdm(sep_labels):\n",
    "    img_name=label_path.split('\\\\')[1].split('.t')[0]\n",
    "    img_name=img_name.split('_')\n",
    "    x0,y0=img_name[-2:]\n",
    "    img_w=float(img_name[-4])\n",
    "    img_h=float(img_name[-3])\n",
    "    img_name='_'.join(img_name[:-4])\n",
    "\n",
    "    with open(label_path,'r') as f:\n",
    "        lines=f.readlines()\n",
    "\n",
    "    for line in lines:\n",
    "        l,x,y,w,h,score=line.strip().split(' ')\n",
    "        x=(float(x)*target_size+float(x0))/img_w\n",
    "        y=(float(y)*target_size+float(y0))/img_h\n",
    "        w=(float(w)*target_size)/img_w\n",
    "        h=(float(h)*target_size)/img_h\n",
    "\n",
    "        out_string=\"{} {:.6f} {:.6f} {:.6f} {:.6f}\\n\".format(l,x,y,w,h)\n",
    "        with open(output_path+img_name+'.txt','a+') as f:\n",
    "            f.write(out_string)        "
   ]
  },
  {
   "cell_type": "code",
   "execution_count": null,
   "metadata": {},
   "outputs": [],
   "source": []
  }
 ],
 "metadata": {
  "kernelspec": {
   "display_name": "Python 3",
   "language": "python",
   "name": "python3"
  },
  "language_info": {
   "codemirror_mode": {
    "name": "ipython",
    "version": 3
   },
   "file_extension": ".py",
   "mimetype": "text/x-python",
   "name": "python",
   "nbconvert_exporter": "python",
   "pygments_lexer": "ipython3",
   "version": "3.7.6"
  }
 },
 "nbformat": 4,
 "nbformat_minor": 4
}