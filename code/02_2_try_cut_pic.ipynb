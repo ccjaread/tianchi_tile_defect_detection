{
 "cells": [
  {
   "cell_type": "code",
   "execution_count": 1,
   "metadata": {},
   "outputs": [],
   "source": [
    "import cv2 \n",
    "import numpy as np"
   ]
  },
  {
   "cell_type": "code",
   "execution_count": 2,
   "metadata": {},
   "outputs": [],
   "source": [
    "import os"
   ]
  },
  {
   "cell_type": "code",
   "execution_count": 3,
   "metadata": {},
   "outputs": [],
   "source": [
    "import json\n",
    "with open('./tcdata/tile_round1_train_20201231/train_annos.json', 'r') as fp:\n",
    "     results=json.load(fp)"
   ]
  },
  {
   "cell_type": "code",
   "execution_count": 4,
   "metadata": {},
   "outputs": [],
   "source": [
    "dict_data=results[1]"
   ]
  },
  {
   "cell_type": "code",
   "execution_count": 5,
   "metadata": {},
   "outputs": [
    {
     "data": {
      "text/plain": [
       "{'name': '235_2_t20201127123021723_CAM2.jpg',\n",
       " 'image_height': 6000,\n",
       " 'image_width': 8192,\n",
       " 'category': 5,\n",
       " 'bbox': [1876.06, 998.04, 1883.06, 1004.04]}"
      ]
     },
     "execution_count": 5,
     "metadata": {},
     "output_type": "execute_result"
    }
   ],
   "source": [
    "dict_data"
   ]
  },
  {
   "cell_type": "markdown",
   "metadata": {},
   "source": [
    "#### Edit get_sliced_yolo_box()\n",
    "```python\n",
    "save_path='./tile_round1_train_20201231/train_imgs_sliced/'\n",
    "target_size=100\n",
    "expand_ratio=1.5\n",
    "im = cv2.imread('./tile_round1_train_20201231/train_imgs/'+dict_data['name'])\n",
    "fname=dict_data['name'].split('.j')[0]\n",
    "\n",
    "hy,wx,_=im.shape\n",
    "gap_y=hy%target_size//2\n",
    "gap_x=wx%target_size//2\n",
    "\n",
    "tag_xy=dict_data['bbox']\n",
    "\n",
    "new_x0=((round(tag_xy[0])-gap_x)//target_size)*target_size+gap_x\n",
    "new_y0=((round(tag_xy[1])-gap_y)//target_size)*target_size+gap_y\n",
    "\n",
    "w=round(target_size*expand_ratio)\n",
    "h=round(target_size*expand_ratio)\n",
    "\n",
    "\n",
    "out_x=(np.mean([tag_xy[0],tag_xy[2]])-new_x0)/w\n",
    "out_y=(np.mean([tag_xy[1],tag_xy[3]])-new_y0)/h\n",
    "out_w=(tag_xy[2]-tag_xy[0])/w\n",
    "out_h=(tag_xy[3]-tag_xy[1])/h\n",
    "out_string=\"{} {:.6f} {:.6f} {:.6f} {:.6f}\\n\".format(dict_data['category'],out_x,out_y,out_w,out_h)\n",
    "\n",
    "if hy>=new_y0+h and wx>=new_x0+w:\n",
    "    new_img=im[new_y0:new_y0+h,new_x0:new_x0+w,:]\n",
    "else:\n",
    "    new_img=im[new_y0:hy,new_x0:wx,:]\n",
    "    new_img=np.pad(new_img, ((0,new_y0+h-hy),(0,new_x0+w-wx),(0,0)), 'constant', constant_values=0)\n",
    "\n",
    "pic_fname=fname+'_'+str(new_x0)+'_'+str(new_y0)+'.jpg'\n",
    "if os.path.exists(pic_fname):\n",
    "    pass\n",
    "else:\n",
    "    cv2.imwrite(save_path+pic_fname, new_img,[int(cv2.IMWRITE_JPEG_QUALITY), 100])\n",
    "\n",
    "anno_fname=fname+'_'+str(new_x0)+'_'+str(new_y0)+'.txt'\n",
    "with open(save_path+anno_fname,'a+') as f:\n",
    "    f.write(out_string)\n",
    "```"
   ]
  },
  {
   "cell_type": "code",
   "execution_count": 6,
   "metadata": {},
   "outputs": [],
   "source": [
    "def get_sliced_yolo_box(dict_data):\n",
    "    #parameters\n",
    "    pic_save_path='./tcdata/train_imgs_sliced_160/images/'\n",
    "    anno_save_path='./tcdata/train_imgs_sliced_160/labels/'\n",
    "    target_size=100\n",
    "    expand_ratio=1.6 #2.24\n",
    "    \n",
    "    im = cv2.imread('./tcdata/tile_round1_train_20201231/train_imgs/'+dict_data['name'])\n",
    "    fname=dict_data['name'].split('.j')[0]\n",
    "\n",
    "    #hight_y(hy),width_x(wx)\n",
    "    hy,wx,_=im.shape\n",
    "    gap_y=hy%target_size//2\n",
    "    gap_x=wx%target_size//2\n",
    "\n",
    "    tag_xy=dict_data['bbox']\n",
    "\n",
    "    new_x0=((round(tag_xy[0])-gap_x)//target_size)*target_size+gap_x\n",
    "    new_y0=((round(tag_xy[1])-gap_y)//target_size)*target_size+gap_y\n",
    "\n",
    "    #new img size\n",
    "    w=round(target_size*expand_ratio)\n",
    "    h=round(target_size*expand_ratio)\n",
    "    \n",
    "    #new boundary\n",
    "    new_x1=new_x0+w\n",
    "    new_y1=new_y0+h\n",
    "\n",
    "\n",
    "    out_x=(np.mean([tag_xy[0],min(tag_xy[2],new_x1)])-new_x0)/w\n",
    "    out_y=(np.mean([tag_xy[1],min(tag_xy[3],new_y1)])-new_y0)/h\n",
    "    out_w=(min(tag_xy[2],new_x1)-tag_xy[0])/w\n",
    "    out_w=min(1,out_w)\n",
    "    out_h=(min(tag_xy[3],new_y1)-tag_xy[1])/h\n",
    "    out_h=min(1,out_h)\n",
    "    \n",
    "    out_string=\"{} {:.6f} {:.6f} {:.6f} {:.6f}\\n\".format(dict_data['category'],out_x,out_y,out_w,out_h)\n",
    "\n",
    "    if hy>=new_y1 and wx>=new_x1:\n",
    "        new_img=im[new_y0:new_y1,new_x0:new_x1,:]\n",
    "    else:\n",
    "        new_img=im[new_y0:hy,new_x0:wx,:]\n",
    "        new_img=np.pad(new_img, ((0,new_y1-hy),(0,new_x1-wx),(0,0)), 'constant', constant_values=0)\n",
    "\n",
    "    pic_fname=fname+'_'+str(wx)+'_'+str(hy)+'_'+str(new_x0)+'_'+str(new_y0)+'.jpg'\n",
    "    if os.path.exists(pic_fname):\n",
    "        pass\n",
    "    else:\n",
    "        cv2.imwrite(pic_save_path+pic_fname, new_img,[int(cv2.IMWRITE_JPEG_QUALITY), 100])\n",
    "\n",
    "    anno_fname=fname+'_'+str(wx)+'_'+str(hy)+'_'+str(new_x0)+'_'+str(new_y0)+'.txt'\n",
    "    with open(anno_save_path+anno_fname,'a+') as f:\n",
    "        f.write(out_string)"
   ]
  },
  {
   "cell_type": "code",
   "execution_count": 7,
   "metadata": {},
   "outputs": [],
   "source": [
    "for dict_data in results:\n",
    "    get_sliced_yolo_box(dict_data)"
   ]
  },
  {
   "cell_type": "code",
   "execution_count": null,
   "metadata": {},
   "outputs": [],
   "source": []
  }
 ],
 "metadata": {
  "kernelspec": {
   "display_name": "Python 3",
   "language": "python",
   "name": "python3"
  },
  "language_info": {
   "codemirror_mode": {
    "name": "ipython",
    "version": 3
   },
   "file_extension": ".py",
   "mimetype": "text/x-python",
   "name": "python",
   "nbconvert_exporter": "python",
   "pygments_lexer": "ipython3",
   "version": "3.7.6"
  }
 },
 "nbformat": 4,
 "nbformat_minor": 4
}